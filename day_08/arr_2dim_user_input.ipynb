{
 "cells": [
  {
   "cell_type": "code",
   "execution_count": 23,
   "metadata": {},
   "outputs": [],
   "source": [
    "# Enque and deque \n",
    "class Queue:\n",
    "    def __init__(self):\n",
    "        self.item = []\n",
    "        \n",
    "    def enque(self, item):\n",
    "        self.item.append(item)\n",
    "        \n",
    "    def dequeue(self, item):\n",
    "        if len(self.item) == 0:\n",
    "            return self.item.pop(0)\n",
    "    \n",
    "            \n",
    "    def size(self):\n",
    "        return len(self.item)\n",
    "        \n",
    "        "
   ]
  },
  {
   "cell_type": "code",
   "execution_count": 24,
   "metadata": {},
   "outputs": [
    {
     "ename": "ValueError",
     "evalue": "invalid literal for int() with base 10: ''",
     "output_type": "error",
     "traceback": [
      "\u001b[1;31m---------------------------------------------------------------------------\u001b[0m",
      "\u001b[1;31mValueError\u001b[0m                                Traceback (most recent call last)",
      "Cell \u001b[1;32mIn[24], line 28\u001b[0m\n\u001b[0;32m     24\u001b[0m     \u001b[38;5;28mprint\u001b[39m(\u001b[38;5;124mf\u001b[39m\u001b[38;5;124m\"\u001b[39m\u001b[38;5;124mDiagonals are: \u001b[39m\u001b[38;5;132;01m{\u001b[39;00mdiagonal\u001b[38;5;132;01m}\u001b[39;00m\u001b[38;5;124m\"\u001b[39m)\n\u001b[0;32m     27\u001b[0m \u001b[38;5;28;01mif\u001b[39;00m \u001b[38;5;18m__name__\u001b[39m \u001b[38;5;241m==\u001b[39m \u001b[38;5;124m\"\u001b[39m\u001b[38;5;124m__main__\u001b[39m\u001b[38;5;124m\"\u001b[39m:\n\u001b[1;32m---> 28\u001b[0m     row \u001b[38;5;241m=\u001b[39m \u001b[38;5;28;43mint\u001b[39;49m\u001b[43m(\u001b[49m\u001b[38;5;28;43minput\u001b[39;49m\u001b[43m(\u001b[49m\u001b[38;5;124;43m\"\u001b[39;49m\u001b[38;5;124;43mEnter the number of rows:\u001b[39;49m\u001b[38;5;130;43;01m\\n\u001b[39;49;00m\u001b[38;5;124;43m \u001b[39;49m\u001b[38;5;124;43m\"\u001b[39;49m\u001b[43m)\u001b[49m\u001b[43m)\u001b[49m\n\u001b[0;32m     29\u001b[0m     col \u001b[38;5;241m=\u001b[39m \u001b[38;5;28mint\u001b[39m(\u001b[38;5;28minput\u001b[39m(\u001b[38;5;124m\"\u001b[39m\u001b[38;5;124mEnter the number of columns: \u001b[39m\u001b[38;5;130;01m\\n\u001b[39;00m\u001b[38;5;124m\"\u001b[39m))\n\u001b[0;32m     30\u001b[0m     array \u001b[38;5;241m=\u001b[39m create_2dim_matrix(row, col)\n",
      "\u001b[1;31mValueError\u001b[0m: invalid literal for int() with base 10: ''"
     ]
    }
   ],
   "source": [
    "# Creating two dimensional array\n",
    "def create_2dim_matrix(rows, column):\n",
    "    array = []\n",
    "    for r in range(rows):\n",
    "        row = []\n",
    "        for c in range(column):\n",
    "            value = int(input(f'Enter value for row {r+1}, column {c+1}'))\n",
    "            row.append(value)\n",
    "            \n",
    "        array.append(row)\n",
    "    return array\n",
    "\n",
    "\n",
    "# print diagonal of the array\n",
    "def print_diagonal(array):\n",
    "    rows = len(array)\n",
    "    cols = len(array[0])\n",
    "    \n",
    "    if rows != cols:\n",
    "        print('Row and column must be equal to print diagonal.')\n",
    "        \n",
    "        return\n",
    "    diagonal = [array[i][i] for i in range(rows)]\n",
    "    print(f\"Diagonals are: {diagonal}\")\n",
    "\n",
    "\n",
    "if __name__ == \"__main__\":\n",
    "    row = int(input(\"Enter the number of rows:\\n \"))\n",
    "    col = int(input(\"Enter the number of columns: \\n\"))\n",
    "    array = create_2dim_matrix(row, col)\n",
    "    \n",
    "    print('Diagonal of an Array : ')\n",
    "    for i in range(array):\n",
    "        print(i)\n",
    "        \n",
    "    print(print_diagonal(array))\n",
    "    \n",
    "\n",
    "\n"
   ]
  },
  {
   "cell_type": "code",
   "execution_count": 25,
   "metadata": {},
   "outputs": [
    {
     "name": "stdout",
     "output_type": "stream",
     "text": [
      "Queue size: 4\n",
      "Dequeue: None\n",
      "Queue size: 4\n"
     ]
    }
   ],
   "source": [
    "q = Queue()\n",
    "q.enque(1)\n",
    "q.enque(2)\n",
    "q.enque(3)\n",
    "q.enque(4)\n",
    "print(f'Queue size: {q.size()}')\n",
    "print(f'Dequeue: {q.dequeue(1)}')\n",
    "print(f'Queue size: {q.size()}')\n",
    "\n",
    "\n"
   ]
  },
  {
   "cell_type": "code",
   "execution_count": null,
   "metadata": {},
   "outputs": [],
   "source": []
  },
  {
   "cell_type": "code",
   "execution_count": null,
   "metadata": {},
   "outputs": [],
   "source": []
  }
 ],
 "metadata": {
  "kernelspec": {
   "display_name": "venv",
   "language": "python",
   "name": "python3"
  },
  "language_info": {
   "codemirror_mode": {
    "name": "ipython",
    "version": 3
   },
   "file_extension": ".py",
   "mimetype": "text/x-python",
   "name": "python",
   "nbconvert_exporter": "python",
   "pygments_lexer": "ipython3",
   "version": "3.11.5"
  }
 },
 "nbformat": 4,
 "nbformat_minor": 2
}
