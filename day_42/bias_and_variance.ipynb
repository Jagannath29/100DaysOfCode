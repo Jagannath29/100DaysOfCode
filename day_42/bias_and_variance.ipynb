{
 "cells": [
  {
   "cell_type": "markdown",
   "metadata": {},
   "source": [
    "## What is bias in machine learning?\n",
    "- Bias is a phenomenon that skews the result of an algorithm in favor or against an idea.\n",
    "\n",
    "- Bias is considered a systematic error that occurs in the machine learning model itself due to incorrect assumptions in the ML process.\n",
    "\n",
    "- Technically, we can define bias as the error between average model prediction and the ground truth. Moreover, it describes how well the model matches the training data set:\n",
    "     \n",
    "    - A model with a higher bias would not match the data set closely.\n",
    "    - A low bias model will closely match the training data set.\n",
    "\n",
    "\n"
   ]
  },
  {
   "cell_type": "markdown",
   "metadata": {},
   "source": [
    "## What is variance in machine learning?\n",
    "- Variance refers to the changes in the model when using different portions of the training data set.\n",
    "\n",
    "- Simply stated, variance is the variability in the model prediction—how much the ML function can adjust depending on the given data set. Variance comes from highly complex models with a large number of features.\n",
    "\n",
    "\n",
    "    - Models with high bias will have low variance.\n",
    "    - Models with high variance will have a low bias.\n"
   ]
  },
  {
   "cell_type": "markdown",
   "metadata": {},
   "source": [
    "### Underfitting\n",
    "Underfitting occurs when the model is unable to match the input data to the target data. This happens when the model is not complex enough to match all the available data and performs poorly with the training dataset.\n",
    "\n",
    "### Overfitting\n",
    "- Overfitting relates to instances where the model tries to match non-existent data. This occurs when dealing with highly complex models where the model will match almost all the given data points and perform well in training datasets. However, the model would not be able to generalize the data point in the test data set to predict the outcome accurately."
   ]
  },
  {
   "cell_type": "markdown",
   "metadata": {},
   "source": [
    "### Considering bias & variance is crucial\n",
    "\n",
    "- Bias and variance are two key components that you must consider when developing any good, accurate machine learning model.\n",
    "\n",
    "   - Bias creates consistent errors in the ML model, which represents a simpler ML model that is not suitable for a specific requirement.\n",
    "   - On the other hand, variance creates variance errors that lead to incorrect predictions seeing trends or data points that do not exist.\n"
   ]
  },
  {
   "cell_type": "code",
   "execution_count": 4,
   "metadata": {},
   "outputs": [
    {
     "ename": "ModuleNotFoundError",
     "evalue": "No module named 'tensorflow'",
     "output_type": "error",
     "traceback": [
      "\u001b[0;31m---------------------------------------------------------------------------\u001b[0m",
      "\u001b[0;31mModuleNotFoundError\u001b[0m                       Traceback (most recent call last)",
      "Cell \u001b[0;32mIn[4], line 5\u001b[0m\n\u001b[1;32m      3\u001b[0m \u001b[38;5;28;01mfrom\u001b[39;00m \u001b[38;5;21;01msklearn\u001b[39;00m\u001b[38;5;21;01m.\u001b[39;00m\u001b[38;5;21;01mmodel_selection\u001b[39;00m \u001b[38;5;28;01mimport\u001b[39;00m train_test_split\n\u001b[1;32m      4\u001b[0m \u001b[38;5;28;01mfrom\u001b[39;00m \u001b[38;5;21;01msklearn\u001b[39;00m\u001b[38;5;21;01m.\u001b[39;00m\u001b[38;5;21;01mmetrics\u001b[39;00m \u001b[38;5;28;01mimport\u001b[39;00m mean_squared_error\n\u001b[0;32m----> 5\u001b[0m \u001b[38;5;28;01mimport\u001b[39;00m \u001b[38;5;21;01mtensorflow\u001b[39;00m \u001b[38;5;28;01mas\u001b[39;00m \u001b[38;5;21;01mtf\u001b[39;00m\n\u001b[1;32m      6\u001b[0m \u001b[38;5;28;01mfrom\u001b[39;00m \u001b[38;5;21;01mmlxtend\u001b[39;00m\u001b[38;5;21;01m.\u001b[39;00m\u001b[38;5;21;01mevaluate\u001b[39;00m \u001b[38;5;28;01mimport\u001b[39;00m bias_variance_decomp\n\u001b[1;32m      7\u001b[0m \u001b[38;5;28;01mimport\u001b[39;00m \u001b[38;5;21;01mwarnings\u001b[39;00m\n",
      "\u001b[0;31mModuleNotFoundError\u001b[0m: No module named 'tensorflow'"
     ]
    }
   ],
   "source": [
    "\n",
    "# Load the necessary libraries\n",
    "from sklearn.datasets import fetch_california_housing\n",
    "from sklearn.model_selection import train_test_split\n",
    "from sklearn.metrics import mean_squared_error\n",
    "import tensorflow as tf\n",
    "from mlxtend.evaluate import bias_variance_decomp\n",
    "import warnings\n",
    "warnings.filterwarnings('ignore')\n",
    " \n",
    "# Laod the dataset\n",
    "X, y = fetch_california_housing(return_X_y=True)\n",
    " \n",
    "# Split train and test dataset\n",
    "X_train, X_test,\\\n",
    "    y_train, y_test = train_test_split(X, y,\n",
    "                                       test_size=0.25,\n",
    "                                       random_state=23,\n",
    "                                       shuffle=True)\n",
    " \n",
    "# Build the regression model\n",
    "model = tf.keras.Sequential([\n",
    "    tf.keras.layers.Dense(64, activation=tf.nn.relu),\n",
    "    tf.keras.layers.Dense(1)\n",
    "])\n",
    " \n",
    "# Set optimizer and loss\n",
    "optimizer = tf.keras.optimizers.Adam()\n",
    "model.compile(loss='mean_squared_error',\n",
    "              optimizer=optimizer)\n",
    " \n",
    "# Train the model\n",
    "model.fit(X_train, y_train, epochs=25, verbose=0)\n",
    "# Evaluations\n",
    "accuracy = model.evaluate(X_test, y_test)\n",
    "print('Average: %.2f' % accuracy)\n",
    " \n",
    "# Bias variance decompositions\n",
    "avg_expected_loss, avg_bias,\\\n",
    "    avg_var = bias_variance_decomp(model,\n",
    "                                   X_train, y_train,\n",
    "                                   X_test, y_test,\n",
    "                                   loss='mse',\n",
    "                                   random_seed=23,\n",
    "                                   epochs=5,\n",
    "                                   verbose=0)\n",
    " \n",
    "# Print the result\n",
    "print('Average expected loss: %.2f' % avg_expected_loss)\n",
    "print('Average bias: %.2f' % avg_bias)\n",
    "print('Average variance: %.2f' % avg_var)"
   ]
  },
  {
   "cell_type": "code",
   "execution_count": null,
   "metadata": {},
   "outputs": [],
   "source": []
  }
 ],
 "metadata": {
  "kernelspec": {
   "display_name": "env",
   "language": "python",
   "name": "python3"
  },
  "language_info": {
   "codemirror_mode": {
    "name": "ipython",
    "version": 3
   },
   "file_extension": ".py",
   "mimetype": "text/x-python",
   "name": "python",
   "nbconvert_exporter": "python",
   "pygments_lexer": "ipython3",
   "version": "3.12.3"
  }
 },
 "nbformat": 4,
 "nbformat_minor": 2
}
