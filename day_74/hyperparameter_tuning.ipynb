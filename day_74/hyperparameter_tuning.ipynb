{
 "cells": [
  {
   "cell_type": "markdown",
   "metadata": {},
   "source": [
    "# Hyperparameter Tuning with TensorFlow\n",
    "\n",
    "### Introduction\n",
    "Deep learning models are pivotal in pushing the boundaries in fields like image recognition and natural language processing. A crucial step in crafting these powerful models is hyperparameter tuning, which optimizes the settings that govern the training process.\n",
    "\n",
    "### Defining Hyperparameters\n",
    "`Hyperparameters` are the knobs and levers that machine learning engineers adjust before training. These parameters, which include the learning rate, batch size, number of epochs, and network architecture (e.g., number of layers and hidden units), remain fixed during training and significantly influence model performance.\n",
    "\n"
   ]
  },
  {
   "cell_type": "markdown",
   "metadata": {},
   "source": [
    "### Why Tune Hyperparameters?\n",
    " \n",
    " The right hyperparameter settings can drastically improve a model’s ability to generalize from training data to unseen data. In contrast, poorly chosen hyperparameters may lead to overfitting or underfitting, thereby degrading the model’s performance on new tasks. Efficient hyperparameter tuning finds a sweet spot, balancing the model’s complexity and its learning capability."
   ]
  },
  {
   "cell_type": "markdown",
   "metadata": {},
   "source": [
    "### Hyperparameter Types and Their Impact\n",
    "\n",
    "    Learning Rate: Dictates the adjustments made to model weights during training. Optimal settings ensure efficient convergence.\n",
    "\n",
    "    Batch Size: Affects the model’s update frequency and convergence stability. Smaller sizes can enhance generalization but increase computation time.\n",
    "\n",
    "    Network Architecture: More layers and units can model complex patterns but risk overfitting.\n",
    "\n",
    "    Number of Epochs: Dictates how many times the learning algorithm will work through the entire training dataset. Too few epochs can result in an underfit model, whereas too many can lead to overfitting.\n",
    "    \n",
    "    Activation Functions: Functions like ReLU, sigmoid, and tanh impact the training dynamics and the model’s ability to approximate non-linear functions."
   ]
  },
  {
   "cell_type": "markdown",
   "metadata": {},
   "source": [
    "### Tuning Techniques\n",
    "##### Basic Techniques\n",
    "\n",
    "    Grid Search: Exhaustive search over a specified parameter space.\n",
    "    \n",
    "    Random Search: More efficient than grid search, it tests a random combination of parameters.\n",
    "    \n",
    "    Bayesian Optimization: Utilizes a probabilistic model to predict the best hyperparameters."
   ]
  },
  {
   "cell_type": "markdown",
   "metadata": {},
   "source": [
    "##### Advanced Techniques\n",
    "\n",
    "    Automated Machine Learning (AutoML): Automates the selection and tuning of models, reducing the manual workload.\n",
    "    \n",
    "    Genetic Algorithms: Mimics natural selection to iteratively select the best model parameters.\n",
    "    \n",
    "    Hyperband: A resource-efficient method that speeds up the tuning process by focusing on promising parameter combinations.\n",
    "\n"
   ]
  },
  {
   "cell_type": "markdown",
   "metadata": {},
   "source": [
    "I will be working on `mnist` dataset which contains digits form 0 to 9. The shape of the dataset is (6000, 9)"
   ]
  },
  {
   "cell_type": "code",
   "execution_count": 3,
   "metadata": {},
   "outputs": [
    {
     "name": "stdout",
     "output_type": "stream",
     "text": [
      "Xtrain shape: (60000, 28, 28), ytrain shape: (60000,), xtest shape: (10000, 28, 28), ytest shape: (10000,)\n"
     ]
    }
   ],
   "source": [
    "# load MNIST\n",
    "\n",
    "from tensorflow.keras.datasets import mnist\n",
    "\n",
    "\n",
    "(x_train, y_train), (x_test, y_test) = mnist.load_data()\n",
    "\n",
    "print(f'Xtrain shape: {x_train.shape}, ytrain shape: {y_train.shape}, xtest shape: {x_test.shape}, ytest shape: {y_test.shape}')\n"
   ]
  },
  {
   "cell_type": "code",
   "execution_count": 7,
   "metadata": {},
   "outputs": [
    {
     "data": {
      "text/plain": [
       "<matplotlib.image.AxesImage at 0x73eee95d59a0>"
      ]
     },
     "execution_count": 7,
     "metadata": {},
     "output_type": "execute_result"
    },
    {
     "data": {
      "image/png": "[encoded data removed]",
      "text/plain": [
       "<Figure size 640x480 with 1 Axes>"
      ]
     },
     "metadata": {},
     "output_type": "display_data"
    }
   ],
   "source": [
    "# Visualize first input\n",
    "import matplotlib.pyplot as plt\n",
    "\n",
    "plt.imshow(x_train[0])"
   ]
  },
  {
   "cell_type": "markdown",
   "metadata": {},
   "source": [
    "So the first element is 5\n"
   ]
  },
  {
   "cell_type": "code",
   "execution_count": 9,
   "metadata": {},
   "outputs": [],
   "source": [
    "# Create Adam Optimizer\n",
    "\n",
    "\n",
    "from tensorflow.keras.optimizers import Adam\n",
    "\n",
    "optimizer1 = Adam(learning_rate=0.001)"
   ]
  },
  {
   "cell_type": "code",
   "execution_count": 10,
   "metadata": {},
   "outputs": [
    {
     "name": "stdout",
     "output_type": "stream",
     "text": [
      "Epoch 1/8\n"
     ]
    },
    {
     "name": "stderr",
     "output_type": "stream",
     "text": [
      "2024-07-03 15:33:48.733636: W external/local_tsl/tsl/framework/cpu_allocator_impl.cc:83] Allocation of 47040000 exceeds 10% of free system memory.\n"
     ]
    },
    {
     "name": "stdout",
     "output_type": "stream",
     "text": [
      "\u001b[1m1875/1875\u001b[0m \u001b[32m━━━━━━━━━━━━━━━━━━━━\u001b[0m\u001b[37m\u001b[0m \u001b[1m10s\u001b[0m 5ms/step - accuracy: 0.8031 - loss: 0.7379 - val_accuracy: 0.9156 - val_loss: 0.3068\n",
      "Epoch 2/8\n",
      "\u001b[1m1875/1875\u001b[0m \u001b[32m━━━━━━━━━━━━━━━━━━━━\u001b[0m\u001b[37m\u001b[0m \u001b[1m9s\u001b[0m 5ms/step - accuracy: 0.9110 - loss: 0.3176 - val_accuracy: 0.9225 - val_loss: 0.2838\n",
      "Epoch 3/8\n",
      "\u001b[1m1875/1875\u001b[0m \u001b[32m━━━━━━━━━━━━━━━━━━━━\u001b[0m\u001b[37m\u001b[0m \u001b[1m9s\u001b[0m 5ms/step - accuracy: 0.9196 - loss: 0.2881 - val_accuracy: 0.9250 - val_loss: 0.2740\n",
      "Epoch 4/8\n",
      "\u001b[1m1875/1875\u001b[0m \u001b[32m━━━━━━━━━━━━━━━━━━━━\u001b[0m\u001b[37m\u001b[0m \u001b[1m9s\u001b[0m 5ms/step - accuracy: 0.9227 - loss: 0.2756 - val_accuracy: 0.9258 - val_loss: 0.2686\n",
      "Epoch 5/8\n",
      "\u001b[1m1875/1875\u001b[0m \u001b[32m━━━━━━━━━━━━━━━━━━━━\u001b[0m\u001b[37m\u001b[0m \u001b[1m9s\u001b[0m 5ms/step - accuracy: 0.9237 - loss: 0.2767 - val_accuracy: 0.9257 - val_loss: 0.2678\n",
      "Epoch 6/8\n",
      "\u001b[1m1875/1875\u001b[0m \u001b[32m━━━━━━━━━━━━━━━━━━━━\u001b[0m\u001b[37m\u001b[0m \u001b[1m9s\u001b[0m 5ms/step - accuracy: 0.9263 - loss: 0.2647 - val_accuracy: 0.9256 - val_loss: 0.2683\n",
      "Epoch 7/8\n",
      "\u001b[1m1875/1875\u001b[0m \u001b[32m━━━━━━━━━━━━━━━━━━━━\u001b[0m\u001b[37m\u001b[0m \u001b[1m9s\u001b[0m 5ms/step - accuracy: 0.9292 - loss: 0.2582 - val_accuracy: 0.9271 - val_loss: 0.2664\n",
      "Epoch 8/8\n",
      "\u001b[1m1875/1875\u001b[0m \u001b[32m━━━━━━━━━━━━━━━━━━━━\u001b[0m\u001b[37m\u001b[0m \u001b[1m9s\u001b[0m 5ms/step - accuracy: 0.9296 - loss: 0.2573 - val_accuracy: 0.9253 - val_loss: 0.2673\n"
     ]
    },
    {
     "data": {
      "text/plain": [
       "<keras.src.callbacks.history.History at 0x73eee96c7170>"
      ]
     },
     "execution_count": 10,
     "metadata": {},
     "output_type": "execute_result"
    }
   ],
   "source": [
    "# build first model\n",
    "\n",
    "from tensorflow.keras import layers\n",
    "from tensorflow.keras.models import Sequential\n",
    "\n",
    "model_1 = Sequential([layers.Input((28,28)),\n",
    "                      layers.Lambda(lambda x: x/255),\n",
    "                      layers.Flatten(),\n",
    "                      layers.Dense(10, activation='softmax')])\n",
    "\n",
    "model_1.compile(optimizer = optimizer1, loss = 'sparse_categorical_crossentropy', metrics=['accuracy'])\n",
    "\n",
    "model_1.fit(x=x_train, y=y_train, validation_data=(x_test, y_test), epochs=8)\n"
   ]
  },
  {
   "cell_type": "markdown",
   "metadata": {},
   "source": [
    "In the first epoch we have val_accuracy higher than accuracy which is a littile bit weired. But as we go on we have approxmitely same number of accuracy and val_accuracy to 0.9296.  It means our model can do well on unseen data.\n"
   ]
  },
  {
   "cell_type": "code",
   "execution_count": null,
   "metadata": {},
   "outputs": [],
   "source": []
  },
  {
   "cell_type": "markdown",
   "metadata": {},
   "source": [
    "In second model, I'll have two dense layer, one will be `relu` and the other will be `softmax`"
   ]
  },
  {
   "cell_type": "code",
   "execution_count": 12,
   "metadata": {},
   "outputs": [
    {
     "name": "stdout",
     "output_type": "stream",
     "text": [
      "Epoch 1/8\n"
     ]
    },
    {
     "name": "stderr",
     "output_type": "stream",
     "text": [
      "2024-07-03 15:47:57.162812: W external/local_tsl/tsl/framework/cpu_allocator_impl.cc:83] Allocation of 47040000 exceeds 10% of free system memory.\n"
     ]
    },
    {
     "name": "stdout",
     "output_type": "stream",
     "text": [
      "\u001b[1m1875/1875\u001b[0m \u001b[32m━━━━━━━━━━━━━━━━━━━━\u001b[0m\u001b[37m\u001b[0m \u001b[1m11s\u001b[0m 5ms/step - accuracy: 0.8315 - loss: 0.5936 - val_accuracy: 0.9385 - val_loss: 0.2090\n",
      "Epoch 2/8\n",
      "\u001b[1m1875/1875\u001b[0m \u001b[32m━━━━━━━━━━━━━━━━━━━━\u001b[0m\u001b[37m\u001b[0m \u001b[1m11s\u001b[0m 6ms/step - accuracy: 0.9412 - loss: 0.2033 - val_accuracy: 0.9506 - val_loss: 0.1640\n",
      "Epoch 3/8\n",
      "\u001b[1m1875/1875\u001b[0m \u001b[32m━━━━━━━━━━━━━━━━━━━━\u001b[0m\u001b[37m\u001b[0m \u001b[1m11s\u001b[0m 6ms/step - accuracy: 0.9562 - loss: 0.1552 - val_accuracy: 0.9604 - val_loss: 0.1373\n",
      "Epoch 4/8\n",
      "\u001b[1m1875/1875\u001b[0m \u001b[32m━━━━━━━━━━━━━━━━━━━━\u001b[0m\u001b[37m\u001b[0m \u001b[1m11s\u001b[0m 6ms/step - accuracy: 0.9632 - loss: 0.1268 - val_accuracy: 0.9624 - val_loss: 0.1259\n",
      "Epoch 5/8\n",
      "\u001b[1m1875/1875\u001b[0m \u001b[32m━━━━━━━━━━━━━━━━━━━━\u001b[0m\u001b[37m\u001b[0m \u001b[1m10s\u001b[0m 6ms/step - accuracy: 0.9674 - loss: 0.1102 - val_accuracy: 0.9642 - val_loss: 0.1166\n",
      "Epoch 6/8\n",
      "\u001b[1m1875/1875\u001b[0m \u001b[32m━━━━━━━━━━━━━━━━━━━━\u001b[0m\u001b[37m\u001b[0m \u001b[1m11s\u001b[0m 6ms/step - accuracy: 0.9727 - loss: 0.0936 - val_accuracy: 0.9681 - val_loss: 0.1121\n",
      "Epoch 7/8\n",
      "\u001b[1m1875/1875\u001b[0m \u001b[32m━━━━━━━━━━━━━━━━━━━━\u001b[0m\u001b[37m\u001b[0m \u001b[1m11s\u001b[0m 6ms/step - accuracy: 0.9756 - loss: 0.0825 - val_accuracy: 0.9702 - val_loss: 0.1046\n",
      "Epoch 8/8\n",
      "\u001b[1m1875/1875\u001b[0m \u001b[32m━━━━━━━━━━━━━━━━━━━━\u001b[0m\u001b[37m\u001b[0m \u001b[1m11s\u001b[0m 6ms/step - accuracy: 0.9769 - loss: 0.0784 - val_accuracy: 0.9710 - val_loss: 0.1046\n"
     ]
    },
    {
     "data": {
      "text/plain": [
       "<keras.src.callbacks.history.History at 0x73eee9d1a8d0>"
      ]
     },
     "execution_count": 12,
     "metadata": {},
     "output_type": "execute_result"
    }
   ],
   "source": [
    "# build second model\n",
    "\n",
    "from tensorflow.keras import layers\n",
    "from tensorflow.keras.models import Sequential\n",
    "\n",
    "optimizer2 = Adam(learning_rate=0.001)\n",
    "\n",
    "model_2 = Sequential([layers.Input((28,28)),\n",
    "                      layers.Lambda(lambda x: x/255),\n",
    "                      layers.Flatten(),\n",
    "                      layers.Dense(32, activation='relu'),\n",
    "                      layers.Dense(10, activation='softmax')])\n",
    "\n",
    "model_2.compile(optimizer = optimizer2, loss = 'sparse_categorical_crossentropy', metrics=['accuracy'])\n",
    "\n",
    "model_2.fit(x=x_train, y=y_train, validation_data=(x_test, y_test), epochs=8)\n"
   ]
  },
  {
   "cell_type": "markdown",
   "metadata": {},
   "source": [
    "You can see the imporvement in the model. Before we had `accuracy: 0.9296 ` and now we have `accuracy: 0.9769`"
   ]
  },
  {
   "cell_type": "code",
   "execution_count": null,
   "metadata": {},
   "outputs": [],
   "source": []
  },
  {
   "cell_type": "markdown",
   "metadata": {},
   "source": [
    "### Let's see what happens when increasing the learning rate."
   ]
  },
  {
   "cell_type": "code",
   "execution_count": 13,
   "metadata": {},
   "outputs": [
    {
     "name": "stdout",
     "output_type": "stream",
     "text": [
      "Epoch 1/8\n"
     ]
    },
    {
     "name": "stderr",
     "output_type": "stream",
     "text": [
      "2024-07-03 16:04:01.568174: W external/local_tsl/tsl/framework/cpu_allocator_impl.cc:83] Allocation of 47040000 exceeds 10% of free system memory.\n"
     ]
    },
    {
     "name": "stdout",
     "output_type": "stream",
     "text": [
      "\u001b[1m1875/1875\u001b[0m \u001b[32m━━━━━━━━━━━━━━━━━━━━\u001b[0m\u001b[37m\u001b[0m \u001b[1m10s\u001b[0m 5ms/step - accuracy: 0.8787 - loss: 0.3984 - val_accuracy: 0.9504 - val_loss: 0.1732\n",
      "Epoch 2/8\n",
      "\u001b[1m1875/1875\u001b[0m \u001b[32m━━━━━━━━━━━━━━━━━━━━\u001b[0m\u001b[37m\u001b[0m \u001b[1m10s\u001b[0m 5ms/step - accuracy: 0.9482 - loss: 0.1812 - val_accuracy: 0.9503 - val_loss: 0.1741\n",
      "Epoch 3/8\n",
      "\u001b[1m1875/1875\u001b[0m \u001b[32m━━━━━━━━━━━━━━━━━━━━\u001b[0m\u001b[37m\u001b[0m \u001b[1m11s\u001b[0m 6ms/step - accuracy: 0.9510 - loss: 0.1669 - val_accuracy: 0.9505 - val_loss: 0.1749\n",
      "Epoch 4/8\n",
      "\u001b[1m1875/1875\u001b[0m \u001b[32m━━━━━━━━━━━━━━━━━━━━\u001b[0m\u001b[37m\u001b[0m \u001b[1m11s\u001b[0m 6ms/step - accuracy: 0.9559 - loss: 0.1458 - val_accuracy: 0.9602 - val_loss: 0.1560\n",
      "Epoch 5/8\n",
      "\u001b[1m1875/1875\u001b[0m \u001b[32m━━━━━━━━━━━━━━━━━━━━\u001b[0m\u001b[37m\u001b[0m \u001b[1m11s\u001b[0m 6ms/step - accuracy: 0.9578 - loss: 0.1399 - val_accuracy: 0.9581 - val_loss: 0.1710\n",
      "Epoch 6/8\n",
      "\u001b[1m1875/1875\u001b[0m \u001b[32m━━━━━━━━━━━━━━━━━━━━\u001b[0m\u001b[37m\u001b[0m \u001b[1m10s\u001b[0m 6ms/step - accuracy: 0.9607 - loss: 0.1362 - val_accuracy: 0.9499 - val_loss: 0.1882\n",
      "Epoch 7/8\n",
      "\u001b[1m1875/1875\u001b[0m \u001b[32m━━━━━━━━━━━━━━━━━━━━\u001b[0m\u001b[37m\u001b[0m \u001b[1m11s\u001b[0m 6ms/step - accuracy: 0.9648 - loss: 0.1212 - val_accuracy: 0.9496 - val_loss: 0.1936\n",
      "Epoch 8/8\n",
      "\u001b[1m1875/1875\u001b[0m \u001b[32m━━━━━━━━━━━━━━━━━━━━\u001b[0m\u001b[37m\u001b[0m \u001b[1m11s\u001b[0m 6ms/step - accuracy: 0.9630 - loss: 0.1219 - val_accuracy: 0.9531 - val_loss: 0.1883\n"
     ]
    },
    {
     "data": {
      "text/plain": [
       "<keras.src.callbacks.history.History at 0x73eed671d4c0>"
      ]
     },
     "execution_count": 13,
     "metadata": {},
     "output_type": "execute_result"
    }
   ],
   "source": [
    "optimizer3 = Adam(learning_rate=0.01)\n",
    "\n",
    "\n",
    "model_3 = Sequential([layers.Input((28,28)),\n",
    "                      layers.Lambda(lambda x: x/255),\n",
    "                      layers.Flatten(),\n",
    "                      layers.Dense(32, activation='relu'),\n",
    "                      layers.Dense(10, activation='softmax')])\n",
    "\n",
    "model_3.compile(optimizer = optimizer3, loss = 'sparse_categorical_crossentropy', metrics=['accuracy'])\n",
    "\n",
    "model_3.fit(x=x_train, y=y_train, validation_data=(x_test, y_test), epochs=8)\n",
    "\n"
   ]
  },
  {
   "cell_type": "markdown",
   "metadata": {},
   "source": [
    "There is not much difference in this model form the previous one.\n"
   ]
  },
  {
   "cell_type": "markdown",
   "metadata": {},
   "source": [
    "### let's try using different parameters. "
   ]
  },
  {
   "cell_type": "code",
   "execution_count": 14,
   "metadata": {},
   "outputs": [
    {
     "name": "stdout",
     "output_type": "stream",
     "text": [
      "Epoch 1/8\n"
     ]
    },
    {
     "name": "stderr",
     "output_type": "stream",
     "text": [
      "2024-07-03 16:11:01.722405: W external/local_tsl/tsl/framework/cpu_allocator_impl.cc:83] Allocation of 47040000 exceeds 10% of free system memory.\n"
     ]
    },
    {
     "name": "stdout",
     "output_type": "stream",
     "text": [
      "\u001b[1m1875/1875\u001b[0m \u001b[32m━━━━━━━━━━━━━━━━━━━━\u001b[0m\u001b[37m\u001b[0m \u001b[1m18s\u001b[0m 8ms/step - accuracy: 0.8786 - loss: 0.4062 - val_accuracy: 0.9627 - val_loss: 0.1159\n",
      "Epoch 2/8\n",
      "\u001b[1m1875/1875\u001b[0m \u001b[32m━━━━━━━━━━━━━━━━━━━━\u001b[0m\u001b[37m\u001b[0m \u001b[1m16s\u001b[0m 9ms/step - accuracy: 0.9682 - loss: 0.1025 - val_accuracy: 0.9676 - val_loss: 0.0975\n",
      "Epoch 3/8\n",
      "\u001b[1m1875/1875\u001b[0m \u001b[32m━━━━━━━━━━━━━━━━━━━━\u001b[0m\u001b[37m\u001b[0m \u001b[1m17s\u001b[0m 9ms/step - accuracy: 0.9779 - loss: 0.0699 - val_accuracy: 0.9725 - val_loss: 0.0878\n",
      "Epoch 4/8\n",
      "\u001b[1m1875/1875\u001b[0m \u001b[32m━━━━━━━━━━━━━━━━━━━━\u001b[0m\u001b[37m\u001b[0m \u001b[1m17s\u001b[0m 9ms/step - accuracy: 0.9830 - loss: 0.0513 - val_accuracy: 0.9774 - val_loss: 0.0754\n",
      "Epoch 5/8\n",
      "\u001b[1m1875/1875\u001b[0m \u001b[32m━━━━━━━━━━━━━━━━━━━━\u001b[0m\u001b[37m\u001b[0m \u001b[1m16s\u001b[0m 8ms/step - accuracy: 0.9866 - loss: 0.0405 - val_accuracy: 0.9770 - val_loss: 0.0833\n",
      "Epoch 6/8\n",
      "\u001b[1m1875/1875\u001b[0m \u001b[32m━━━━━━━━━━━━━━━━━━━━\u001b[0m\u001b[37m\u001b[0m \u001b[1m15s\u001b[0m 8ms/step - accuracy: 0.9896 - loss: 0.0326 - val_accuracy: 0.9828 - val_loss: 0.0710\n",
      "Epoch 7/8\n",
      "\u001b[1m1875/1875\u001b[0m \u001b[32m━━━━━━━━━━━━━━━━━━━━\u001b[0m\u001b[37m\u001b[0m \u001b[1m17s\u001b[0m 9ms/step - accuracy: 0.9920 - loss: 0.0255 - val_accuracy: 0.9773 - val_loss: 0.0936\n",
      "Epoch 8/8\n",
      "\u001b[1m1875/1875\u001b[0m \u001b[32m━━━━━━━━━━━━━━━━━━━━\u001b[0m\u001b[37m\u001b[0m \u001b[1m17s\u001b[0m 9ms/step - accuracy: 0.9923 - loss: 0.0249 - val_accuracy: 0.9766 - val_loss: 0.0987\n"
     ]
    },
    {
     "data": {
      "text/plain": [
       "<keras.src.callbacks.history.History at 0x73eed4768ce0>"
      ]
     },
     "execution_count": 14,
     "metadata": {},
     "output_type": "execute_result"
    }
   ],
   "source": [
    "optimizer4 = Adam(learning_rate=0.001)\n",
    "\n",
    "\n",
    "model_4 = Sequential([layers.Input((28,28)),\n",
    "                      layers.Lambda(lambda x: x/255),\n",
    "                      layers.Flatten(),\n",
    "                      layers.Dense(128, activation='relu'),\n",
    "                      layers.Dense(128, activation='relu'),\n",
    "                      layers.Dense(128, activation='relu'),\n",
    "                      layers.Dense(10, activation='softmax')])\n",
    "\n",
    "model_4.compile(optimizer = optimizer4, loss = 'sparse_categorical_crossentropy', metrics=['accuracy'])\n",
    "\n",
    "model_4.fit(x=x_train, y=y_train, validation_data=(x_test, y_test), epochs=8)"
   ]
  },
  {
   "cell_type": "markdown",
   "metadata": {},
   "source": [
    "The Accuracy is massivein this one."
   ]
  },
  {
   "cell_type": "markdown",
   "metadata": {},
   "source": [
    "### Add Regularization / Dropout to reduce overfitting\n"
   ]
  },
  {
   "cell_type": "code",
   "execution_count": 15,
   "metadata": {},
   "outputs": [
    {
     "name": "stdout",
     "output_type": "stream",
     "text": [
      "Epoch 1/10\n",
      "\u001b[1m1875/1875\u001b[0m \u001b[32m━━━━━━━━━━━━━━━━━━━━\u001b[0m\u001b[37m\u001b[0m \u001b[1m15s\u001b[0m 7ms/step - accuracy: 0.8625 - loss: 0.7556 - val_accuracy: 0.9575 - val_loss: 0.3168\n",
      "Epoch 2/10\n",
      "\u001b[1m1875/1875\u001b[0m \u001b[32m━━━━━━━━━━━━━━━━━━━━\u001b[0m\u001b[37m\u001b[0m \u001b[1m9s\u001b[0m 5ms/step - accuracy: 0.9546 - loss: 0.3208 - val_accuracy: 0.9620 - val_loss: 0.2670\n",
      "Epoch 3/10\n",
      "\u001b[1m1875/1875\u001b[0m \u001b[32m━━━━━━━━━━━━━━━━━━━━\u001b[0m\u001b[37m\u001b[0m \u001b[1m9s\u001b[0m 5ms/step - accuracy: 0.9589 - loss: 0.2669 - val_accuracy: 0.9683 - val_loss: 0.2337\n",
      "Epoch 4/10\n",
      "\u001b[1m1875/1875\u001b[0m \u001b[32m━━━━━━━━━━━━━━━━━━━━\u001b[0m\u001b[37m\u001b[0m \u001b[1m9s\u001b[0m 5ms/step - accuracy: 0.9648 - loss: 0.2412 - val_accuracy: 0.9720 - val_loss: 0.2155\n",
      "Epoch 5/10\n",
      "\u001b[1m1875/1875\u001b[0m \u001b[32m━━━━━━━━━━━━━━━━━━━━\u001b[0m\u001b[37m\u001b[0m \u001b[1m11s\u001b[0m 6ms/step - accuracy: 0.9658 - loss: 0.2324 - val_accuracy: 0.9725 - val_loss: 0.2088\n",
      "Epoch 6/10\n",
      "\u001b[1m1875/1875\u001b[0m \u001b[32m━━━━━━━━━━━━━━━━━━━━\u001b[0m\u001b[37m\u001b[0m \u001b[1m14s\u001b[0m 8ms/step - accuracy: 0.9680 - loss: 0.2217 - val_accuracy: 0.9676 - val_loss: 0.2214\n",
      "Epoch 7/10\n",
      "\u001b[1m1875/1875\u001b[0m \u001b[32m━━━━━━━━━━━━━━━━━━━━\u001b[0m\u001b[37m\u001b[0m \u001b[1m12s\u001b[0m 6ms/step - accuracy: 0.9672 - loss: 0.2176 - val_accuracy: 0.9703 - val_loss: 0.2052\n",
      "Epoch 8/10\n",
      "\u001b[1m1875/1875\u001b[0m \u001b[32m━━━━━━━━━━━━━━━━━━━━\u001b[0m\u001b[37m\u001b[0m \u001b[1m12s\u001b[0m 7ms/step - accuracy: 0.9684 - loss: 0.2122 - val_accuracy: 0.9715 - val_loss: 0.2037\n",
      "Epoch 9/10\n",
      "\u001b[1m1875/1875\u001b[0m \u001b[32m━━━━━━━━━━━━━━━━━━━━\u001b[0m\u001b[37m\u001b[0m \u001b[1m11s\u001b[0m 6ms/step - accuracy: 0.9679 - loss: 0.2102 - val_accuracy: 0.9660 - val_loss: 0.2129\n",
      "Epoch 10/10\n",
      "\u001b[1m1875/1875\u001b[0m \u001b[32m━━━━━━━━━━━━━━━━━━━━\u001b[0m\u001b[37m\u001b[0m \u001b[1m16s\u001b[0m 9ms/step - accuracy: 0.9680 - loss: 0.2108 - val_accuracy: 0.9699 - val_loss: 0.1977\n"
     ]
    },
    {
     "data": {
      "text/plain": [
       "<keras.src.callbacks.history.History at 0x73eed419f710>"
      ]
     },
     "execution_count": 15,
     "metadata": {},
     "output_type": "execute_result"
    }
   ],
   "source": [
    "from tensorflow.keras.regularizers import L2\n",
    "\n",
    "optimizer5 = Adam(0.001)\n",
    "\n",
    "model_5 = Sequential([layers.Input((28, 28)),\n",
    "                     layers.Lambda(lambda x: x / 255),\n",
    "                     layers.Flatten(),\n",
    "                     layers.Dense(128, activation='relu', kernel_regularizer=L2(0.001)),\n",
    "                     layers.Dropout(0.05),\n",
    "                     layers.Dense(128, activation='relu', kernel_regularizer=L2(0.001)),\n",
    "                     layers.Dropout(0.05),\n",
    "                     layers.Dense(128, activation='relu', kernel_regularizer=L2(0.001)),\n",
    "                     layers.Dropout(0.05),\n",
    "                     layers.Dense(10, activation='softmax')])\n",
    "\n",
    "model_5.compile(optimizer=optimizer5, loss='sparse_categorical_crossentropy', metrics=['accuracy'])\n",
    "\n",
    "model_5.fit(x=x_train, y=y_train, validation_data=(x_test, y_test), epochs=10)\n",
    "\n"
   ]
  },
  {
   "cell_type": "markdown",
   "metadata": {},
   "source": [
    "`L2(0.001)` drives the parameter towards zero."
   ]
  },
  {
   "cell_type": "code",
   "execution_count": null,
   "metadata": {},
   "outputs": [],
   "source": []
  }
 ],
 "metadata": {
  "kernelspec": {
   "display_name": "env",
   "language": "python",
   "name": "python3"
  },
  "language_info": {
   "codemirror_mode": {
    "name": "ipython",
    "version": 3
   },
   "file_extension": ".py",
   "mimetype": "text/x-python",
   "name": "python",
   "nbconvert_exporter": "python",
   "pygments_lexer": "ipython3",
   "version": "3.12.3"
  }
 },
 "nbformat": 4,
 "nbformat_minor": 2
}
