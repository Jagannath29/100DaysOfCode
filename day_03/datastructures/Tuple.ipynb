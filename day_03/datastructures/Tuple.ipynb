{
 "cells": [
  {
   "cell_type": "markdown",
   "metadata": {
    "id": "QfWAcCribeCp"
   },
   "source": [
    "## Tuple\n",
    "- A Tuple is a collection/sequence that are used to store multiple items (data types) in a single variable. \n",
    "- Like Lists, Tuple can be either simple tuple or nested tuple.\n",
    "- Unlike Lists, Tuples are immutable i.e. it cannot be changed once it's created. \n",
    "- Tuples are heterogeneous i.e. it can store items of different basic data types.\n",
    "- Tuples are written with round brackets.\n",
    "  - **examples:**\n",
    "    - (1, 'simple', 'tuple')\n",
    "    - ((1, 2), 'nested', tuple)\n",
    "\n",
    "- In this lecture we'll cover:\n",
    "  - Creating Tuples\n",
    "  - Indexing Tuples\n",
    "  - Slicing Lists\n",
    "  - Tuples are immutable\n",
    "  - Tuples methods\n",
    "  - Join Tuples\n",
    "  - Unpack Tuples (*)\n",
    "  - Loop Tuples\n",
    "  - Add/Multiply Tuples\n",
    "  - Tuples exercise\n",
    "\n",
    "_`Tuples are ordered, unchangeable, and allow duplicate values.`_"
   ]
  },
  {
   "cell_type": "markdown",
   "metadata": {
    "id": "9AD6qAQ_w8Hr"
   },
   "source": [
    "### 1. Creating Tuples\n",
    "\n",
    "- To create a tuple, type the tuple items within parenthesis **()**, separated by commas.\n",
    "- Example: (\"item1\", 2, 'item3', 4)\n",
    "\n",
    "- Tuples can be categorized into 2 types:\n",
    "  1. simple tuple:\n",
    "    - Example: (1, 2, 3, 4)\n",
    "  2. Nested tuple: \n",
    "    - They tuple within tuple.\n",
    "    - Also called as 2D tuple.\n",
    "    - Example: ((1, 2), (3, 4))"
   ]
  },
  {
   "cell_type": "code",
   "execution_count": 1,
   "metadata": {
    "id": "RPkWQzmo-Oko"
   },
   "outputs": [
    {
     "name": "stdout",
     "output_type": "stream",
     "text": [
      "('item1', 2, 'item3', 4)\n"
     ]
    }
   ],
   "source": [
    "# create empty tuple\n",
    "simple_tuple = (\"item1\", 2, 'item3', 4)\n",
    "print(simple_tuple)"
   ]
  },
  {
   "cell_type": "code",
   "execution_count": 2,
   "metadata": {
    "id": "cy2BqBfoxhqj"
   },
   "outputs": [
    {
     "name": "stdout",
     "output_type": "stream",
     "text": [
      "<class 'tuple'>\n"
     ]
    }
   ],
   "source": [
    "# display type \n",
    "print(type(simple_tuple))"
   ]
  },
  {
   "cell_type": "code",
   "execution_count": 3,
   "metadata": {
    "id": "l_ZivAnPxiK4"
   },
   "outputs": [
    {
     "name": "stdout",
     "output_type": "stream",
     "text": [
      "4\n"
     ]
    }
   ],
   "source": [
    "# display length of tuple\n",
    "# Hint: len(tuple)\n",
    "tuple_len = len(simple_tuple)\n",
    "print(tuple_len)"
   ]
  },
  {
   "cell_type": "code",
   "execution_count": 4,
   "metadata": {
    "id": "AlCEIfpPxm3G"
   },
   "outputs": [
    {
     "name": "stdout",
     "output_type": "stream",
     "text": [
      "(('item1', 2), ('item2', 3), (4, 5))\n"
     ]
    }
   ],
   "source": [
    "# create nested tuple\n",
    "nested_tuple = ((\"item1\", 2), (\"item2\", 3), (4, 5))\n",
    "print(nested_tuple)"
   ]
  },
  {
   "cell_type": "code",
   "execution_count": 5,
   "metadata": {
    "id": "rLZy8fjVxqhy"
   },
   "outputs": [
    {
     "name": "stdout",
     "output_type": "stream",
     "text": [
      "<class 'tuple'>\n"
     ]
    }
   ],
   "source": [
    "# display type of nested tuple\n",
    "print(type(nested_tuple))"
   ]
  },
  {
   "cell_type": "code",
   "execution_count": 6,
   "metadata": {
    "executionInfo": {
     "elapsed": 8,
     "status": "ok",
     "timestamp": 1686240698763,
     "user": {
      "displayName": "Anish Thapaliya",
      "userId": "06325140887572930045"
     },
     "user_tz": -345
    },
    "id": "41_jfatJxrCL"
   },
   "outputs": [
    {
     "name": "stdout",
     "output_type": "stream",
     "text": [
      "3\n"
     ]
    }
   ],
   "source": [
    "# display length of nested tuple\n",
    "# Hint: len() \n",
    "tuple_len = len(nested_tuple)\n",
    "print(tuple_len)"
   ]
  },
  {
   "cell_type": "markdown",
   "metadata": {
    "id": "HEI9jdoOyJCu"
   },
   "source": [
    "**Tuples creation from Strings**  \n",
    "\n",
    ".split()  \n",
    "typecast"
   ]
  },
  {
   "cell_type": "code",
   "execution_count": 1,
   "metadata": {
    "executionInfo": {
     "elapsed": 13,
     "status": "ok",
     "timestamp": 1686240840328,
     "user": {
      "displayName": "Anish Thapaliya",
      "userId": "06325140887572930045"
     },
     "user_tz": -345
    },
    "id": "aJH3m8Stxvn7"
   },
   "outputs": [
    {
     "name": "stdout",
     "output_type": "stream",
     "text": [
      "('Create', 'Tuple', 'from', 'String')\n"
     ]
    }
   ],
   "source": [
    "# write your code here\n",
    "sample_str = \"Create Tuple from String\"\n",
    "\n",
    "# split string (separator = whitespace)\n",
    "list_from_str = sample_str.split(\" \")\n",
    "\n",
    "# typecast list to tuple\n",
    "tuple_from_list = tuple(list_from_str)\n",
    "\n",
    "print(tuple_from_list)"
   ]
  },
  {
   "cell_type": "markdown",
   "metadata": {
    "id": "aAW59-msyXaL"
   },
   "source": [
    "###2. Indexing Tuples\n",
    "- Indexing works similar to that of Lists.\n",
    "- As we know, tuple is a sequenced collection of different objects such as Strings, Integer, etc.\n",
    "- The address of each element within a tuple is called an index.\n",
    "- An index is used to access and refer to items within a tuple.\n",
    "\n",
    "  <img src='https://drive.google.com/uc?id=1SB5gGtnvQp3Fx0gG9YruM4VgmAe-HDQc' width='450'>"
   ]
  },
  {
   "cell_type": "markdown",
   "metadata": {
    "id": "mdZUs-5eyu39"
   },
   "source": [
    "**positive indexing**"
   ]
  },
  {
   "cell_type": "code",
   "execution_count": 8,
   "metadata": {
    "executionInfo": {
     "elapsed": 6,
     "status": "ok",
     "timestamp": 1686241173597,
     "user": {
      "displayName": "Anish Thapaliya",
      "userId": "06325140887572930045"
     },
     "user_tz": -345
    },
    "id": "WSt4Z97pyUYh"
   },
   "outputs": [
    {
     "name": "stdout",
     "output_type": "stream",
     "text": [
      "(0, 1, 2, 3, 4)\n"
     ]
    }
   ],
   "source": [
    "# initialize simple tuple of length 5\n",
    "tuple_indexing = (0, 1, 2, 3, 4)\n",
    "print(tuple_indexing)"
   ]
  },
  {
   "cell_type": "code",
   "execution_count": 9,
   "metadata": {
    "executionInfo": {
     "elapsed": 6,
     "status": "ok",
     "timestamp": 1686241184819,
     "user": {
      "displayName": "Anish Thapaliya",
      "userId": "06325140887572930045"
     },
     "user_tz": -345
    },
    "id": "M0zQaNQQzlqX"
   },
   "outputs": [
    {
     "data": {
      "text/plain": [
       "0"
      ]
     },
     "execution_count": 9,
     "metadata": {},
     "output_type": "execute_result"
    }
   ],
   "source": [
    "# print 1st item using positive index\n",
    "tuple_indexing[0]"
   ]
  },
  {
   "cell_type": "code",
   "execution_count": 10,
   "metadata": {
    "executionInfo": {
     "elapsed": 2,
     "status": "ok",
     "timestamp": 1686241190607,
     "user": {
      "displayName": "Anish Thapaliya",
      "userId": "06325140887572930045"
     },
     "user_tz": -345
    },
    "id": "aqV9KAPxzn7B"
   },
   "outputs": [
    {
     "data": {
      "text/plain": [
       "4"
      ]
     },
     "execution_count": 10,
     "metadata": {},
     "output_type": "execute_result"
    }
   ],
   "source": [
    "# print last item using positive index\n",
    "tuple_indexing[4]"
   ]
  },
  {
   "cell_type": "markdown",
   "metadata": {
    "id": "wG6wt4NYztsN"
   },
   "source": [
    "Also Indexing 2D Tuples is similar to that of list. Experiment on your own."
   ]
  },
  {
   "cell_type": "markdown",
   "metadata": {
    "id": "Sz_daR9_0QmS"
   },
   "source": [
    "**negative indexing**"
   ]
  },
  {
   "cell_type": "code",
   "execution_count": 11,
   "metadata": {
    "id": "qeOisugbzplN"
   },
   "outputs": [
    {
     "data": {
      "text/plain": [
       "0"
      ]
     },
     "execution_count": 11,
     "metadata": {},
     "output_type": "execute_result"
    }
   ],
   "source": [
    "# print 1st item using negative index\n",
    "tuple_indexing[-len(tuple_indexing)]"
   ]
  },
  {
   "cell_type": "code",
   "execution_count": 12,
   "metadata": {
    "executionInfo": {
     "elapsed": 2,
     "status": "ok",
     "timestamp": 1686241374908,
     "user": {
      "displayName": "Anish Thapaliya",
      "userId": "06325140887572930045"
     },
     "user_tz": -345
    },
    "id": "XVGfj0230UHW"
   },
   "outputs": [
    {
     "data": {
      "text/plain": [
       "4"
      ]
     },
     "execution_count": 12,
     "metadata": {},
     "output_type": "execute_result"
    }
   ],
   "source": [
    "# print last item using negative index\n",
    "tuple_indexing[-1]"
   ]
  },
  {
   "cell_type": "markdown",
   "metadata": {
    "id": "JCOf_5uu1EqM"
   },
   "source": [
    "### 3. Slicing Tuples\n",
    "- Slicing Tuples means extracting part of list items.\n",
    "- Concepts of Slicing Tuples is similar to Slicing Lists.\n",
    "- `Syntax: tuple[start:end:step]`"
   ]
  },
  {
   "cell_type": "markdown",
   "metadata": {
    "id": "D8Qp2FPp1Oh8"
   },
   "source": [
    "**case 1: when step is positive**"
   ]
  },
  {
   "cell_type": "code",
   "execution_count": 13,
   "metadata": {
    "executionInfo": {
     "elapsed": 5,
     "status": "ok",
     "timestamp": 1686241634646,
     "user": {
      "displayName": "Anish Thapaliya",
      "userId": "06325140887572930045"
     },
     "user_tz": -345
    },
    "id": "HC3REE7e0W0D"
   },
   "outputs": [
    {
     "name": "stdout",
     "output_type": "stream",
     "text": [
      "('item1', 2, 'item3', 4)\n"
     ]
    }
   ],
   "source": [
    "# initialize simple Tuples\n",
    "simple_tuple = (\"item1\", 2, 'item3', 4)\n",
    "\n",
    "print(simple_tuple)"
   ]
  },
  {
   "cell_type": "code",
   "execution_count": 14,
   "metadata": {
    "executionInfo": {
     "elapsed": 1,
     "status": "ok",
     "timestamp": 1686241636275,
     "user": {
      "displayName": "Anish Thapaliya",
      "userId": "06325140887572930045"
     },
     "user_tz": -345
    },
    "id": "JuiATqkA1WOW"
   },
   "outputs": [
    {
     "data": {
      "text/plain": [
       "('item1', 2, 'item3')"
      ]
     },
     "execution_count": 14,
     "metadata": {},
     "output_type": "execute_result"
    }
   ],
   "source": [
    "# slice first 3 items using positive index\n",
    "\n",
    "simple_tuple[:3]"
   ]
  },
  {
   "cell_type": "code",
   "execution_count": 15,
   "metadata": {
    "executionInfo": {
     "elapsed": 3,
     "status": "ok",
     "timestamp": 1686241644433,
     "user": {
      "displayName": "Anish Thapaliya",
      "userId": "06325140887572930045"
     },
     "user_tz": -345
    },
    "id": "8AGvpbhJ1Wqb"
   },
   "outputs": [
    {
     "data": {
      "text/plain": [
       "(2, 'item3', 4)"
      ]
     },
     "execution_count": 15,
     "metadata": {},
     "output_type": "execute_result"
    }
   ],
   "source": [
    "# slice last 3 items using negative index\n",
    "\n",
    "simple_tuple[-3:]"
   ]
  },
  {
   "cell_type": "code",
   "execution_count": 16,
   "metadata": {
    "executionInfo": {
     "elapsed": 2,
     "status": "ok",
     "timestamp": 1686241677722,
     "user": {
      "displayName": "Anish Thapaliya",
      "userId": "06325140887572930045"
     },
     "user_tz": -345
    },
    "id": "8dTX2Avh1Ymk"
   },
   "outputs": [
    {
     "data": {
      "text/plain": [
       "('item1', 'item3')"
      ]
     },
     "execution_count": 16,
     "metadata": {},
     "output_type": "execute_result"
    }
   ],
   "source": [
    "# get tuple items at even index\n",
    "\n",
    "simple_tuple[::2]"
   ]
  },
  {
   "cell_type": "markdown",
   "metadata": {
    "id": "AZnKLBtP1zbY"
   },
   "source": [
    "**case 2: when step is negative**"
   ]
  },
  {
   "cell_type": "code",
   "execution_count": 17,
   "metadata": {
    "executionInfo": {
     "elapsed": 2,
     "status": "ok",
     "timestamp": 1686241761152,
     "user": {
      "displayName": "Anish Thapaliya",
      "userId": "06325140887572930045"
     },
     "user_tz": -345
    },
    "id": "EubcTxdZ1gzu"
   },
   "outputs": [
    {
     "data": {
      "text/plain": [
       "('item3', 2, 'item1')"
      ]
     },
     "execution_count": 17,
     "metadata": {},
     "output_type": "execute_result"
    }
   ],
   "source": [
    "# slice first 3 tuple items using positive index\n",
    "\n",
    "simple_tuple[2::-1]"
   ]
  },
  {
   "cell_type": "code",
   "execution_count": 18,
   "metadata": {
    "executionInfo": {
     "elapsed": 2,
     "status": "ok",
     "timestamp": 1686241766542,
     "user": {
      "displayName": "Anish Thapaliya",
      "userId": "06325140887572930045"
     },
     "user_tz": -345
    },
    "id": "5YPXXtwn11K6"
   },
   "outputs": [
    {
     "data": {
      "text/plain": [
       "(4, 'item3', 2)"
      ]
     },
     "execution_count": 18,
     "metadata": {},
     "output_type": "execute_result"
    }
   ],
   "source": [
    "# slice last 3 tuple items using negative index\n",
    "\n",
    "simple_tuple[-1:-4:-1]"
   ]
  },
  {
   "cell_type": "code",
   "execution_count": 19,
   "metadata": {
    "id": "OX8lTOtJ12aX"
   },
   "outputs": [
    {
     "data": {
      "text/plain": [
       "(4, 'item3', 2, 'item1')"
      ]
     },
     "execution_count": 19,
     "metadata": {},
     "output_type": "execute_result"
    }
   ],
   "source": [
    "# reverse tuple\n",
    "\n",
    "simple_tuple[::-1]"
   ]
  },
  {
   "cell_type": "markdown",
   "metadata": {
    "id": "tfvzTFGs2Avq"
   },
   "source": [
    "###4. Tuple are immutable\n",
    "- Unlike Lists, Tuoles are mutable\n",
    "- It means we can't change tuple items after its creation."
   ]
  },
  {
   "cell_type": "code",
   "execution_count": 20,
   "metadata": {
    "executionInfo": {
     "elapsed": 2,
     "status": "ok",
     "timestamp": 1686241850608,
     "user": {
      "displayName": "Anish Thapaliya",
      "userId": "06325140887572930045"
     },
     "user_tz": -345
    },
    "id": "RS20JbvK2G9V"
   },
   "outputs": [
    {
     "ename": "TypeError",
     "evalue": "'tuple' object does not support item assignment",
     "output_type": "error",
     "traceback": [
      "\u001b[0;31m---------------------------------------------------------------------------\u001b[0m",
      "\u001b[0;31mTypeError\u001b[0m                                 Traceback (most recent call last)",
      "Cell \u001b[0;32mIn[20], line 5\u001b[0m\n\u001b[1;32m      1\u001b[0m \u001b[38;5;66;03m# verify tuples are immutable\u001b[39;00m\n\u001b[1;32m      3\u001b[0m simple_tuple \u001b[38;5;241m=\u001b[39m (\u001b[38;5;124m\"\u001b[39m\u001b[38;5;124mitem1\u001b[39m\u001b[38;5;124m\"\u001b[39m, \u001b[38;5;241m2\u001b[39m, \u001b[38;5;124m'\u001b[39m\u001b[38;5;124mitem3\u001b[39m\u001b[38;5;124m'\u001b[39m, \u001b[38;5;241m4\u001b[39m)\n\u001b[0;32m----> 5\u001b[0m \u001b[43msimple_tuple\u001b[49m\u001b[43m[\u001b[49m\u001b[38;5;241;43m0\u001b[39;49m\u001b[43m]\u001b[49m \u001b[38;5;241m=\u001b[39m \u001b[38;5;124m\"\u001b[39m\u001b[38;5;124mitem0\u001b[39m\u001b[38;5;124m\"\u001b[39m\n",
      "\u001b[0;31mTypeError\u001b[0m: 'tuple' object does not support item assignment"
     ]
    }
   ],
   "source": [
    "# verify tuples are immutable\n",
    "\n",
    "simple_tuple = (\"item1\", 2, 'item3', 4)\n",
    "\n",
    "simple_tuple[0] = \"item0\""
   ]
  },
  {
   "attachments": {},
   "cell_type": "markdown",
   "metadata": {},
   "source": [
    "`Since item assignment is not possible, We can say Tuples are immutable.` "
   ]
  },
  {
   "cell_type": "markdown",
   "metadata": {
    "id": "1qhqPuQZ2R9g"
   },
   "source": [
    "### 5. Tuples Methods\n",
    "- `count():` returns number of times a specified value occures in a tuple\n",
    "- `index():` returns index of specified value in tuple"
   ]
  },
  {
   "cell_type": "code",
   "execution_count": 21,
   "metadata": {
    "executionInfo": {
     "elapsed": 2,
     "status": "ok",
     "timestamp": 1686268653883,
     "user": {
      "displayName": "Anish Thapaliya",
      "userId": "06325140887572930045"
     },
     "user_tz": -345
    },
    "id": "npCHR2PF2K-5"
   },
   "outputs": [],
   "source": [
    "# initialize tuple \n",
    "tuple_method = (1, 2, 2, 2, 3, 4, 2, 5, 6, 7)"
   ]
  },
  {
   "cell_type": "code",
   "execution_count": 22,
   "metadata": {
    "executionInfo": {
     "elapsed": 2,
     "status": "ok",
     "timestamp": 1686268674919,
     "user": {
      "displayName": "Anish Thapaliya",
      "userId": "06325140887572930045"
     },
     "user_tz": -345
    },
    "id": "2Z6IXULIcXGm"
   },
   "outputs": [
    {
     "name": "stdout",
     "output_type": "stream",
     "text": [
      "4\n"
     ]
    }
   ],
   "source": [
    "# count number of occurence of item \"2\"\n",
    "# Hint: tuple.count(<item>)\n",
    "\n",
    "print(tuple_method.count(2))"
   ]
  },
  {
   "cell_type": "code",
   "execution_count": 23,
   "metadata": {
    "executionInfo": {
     "elapsed": 2,
     "status": "ok",
     "timestamp": 1686269547776,
     "user": {
      "displayName": "Anish Thapaliya",
      "userId": "06325140887572930045"
     },
     "user_tz": -345
    },
    "id": "RihvRO24cf8w"
   },
   "outputs": [
    {
     "data": {
      "text/plain": [
       "5"
      ]
     },
     "execution_count": 23,
     "metadata": {},
     "output_type": "execute_result"
    }
   ],
   "source": [
    "# get index of first item \"4\"\n",
    "# tuple.index(<item>)\n",
    "\n",
    "tuple_method.index(4)"
   ]
  },
  {
   "cell_type": "markdown",
   "metadata": {
    "id": "qHoy_SYYiuco"
   },
   "source": [
    "**How to add item in Tuple?**\n",
    "- Tuples are immutable.\n",
    "- They do not have `append()` methods like list. \n",
    "- Is there any way to add items to Tuple, once it is created?\n",
    "\n",
    "\n",
    "`Approach 1:`\n",
    "- Input Tuple\n",
    "- Typecast Tuple to List\n",
    "- Append item to List\n",
    "- Typecast List back to Tuple"
   ]
  },
  {
   "cell_type": "code",
   "execution_count": 24,
   "metadata": {
    "executionInfo": {
     "elapsed": 508,
     "status": "ok",
     "timestamp": 1686320933670,
     "user": {
      "displayName": "Anish Thapaliya",
      "userId": "06325140887572930045"
     },
     "user_tz": -345
    },
    "id": "ADnWGnq-fqV6"
   },
   "outputs": [
    {
     "name": "stdout",
     "output_type": "stream",
     "text": [
      "('item1', 2, 'item3', 4, 'item5')\n"
     ]
    }
   ],
   "source": [
    "# Write your program here for approach 2\n",
    "\n",
    "simple_tuple = (\"item1\", 2, 'item3', 4)\n",
    "\n",
    "# typecast to list\n",
    "list_from_tuple = list(simple_tuple)\n",
    "\n",
    "# append item to list\n",
    "list_from_tuple.append(\"item5\")\n",
    "\n",
    "# typecast back to Tuple\n",
    "simple_tuple = tuple(list_from_tuple)\n",
    "\n",
    "print(simple_tuple)"
   ]
  },
  {
   "cell_type": "markdown",
   "metadata": {
    "id": "LfcCjAEUj3GM"
   },
   "source": [
    "`Approach 2:`\n",
    "- Input Tuple.\n",
    "- Create Tuple with value to be added to main Tuple\n",
    "- Concatenate Tuple using + operator.\n",
    "\n",
    "_**Addition of Tuples to Tuples are allowed**_"
   ]
  },
  {
   "cell_type": "code",
   "execution_count": 25,
   "metadata": {
    "executionInfo": {
     "elapsed": 5,
     "status": "ok",
     "timestamp": 1686321047230,
     "user": {
      "displayName": "Anish Thapaliya",
      "userId": "06325140887572930045"
     },
     "user_tz": -345
    },
    "id": "HLyddgmdjJdZ"
   },
   "outputs": [
    {
     "name": "stdout",
     "output_type": "stream",
     "text": [
      "('item1', 2, 'item3', 4, 'item5')\n"
     ]
    }
   ],
   "source": [
    "# write your program for approach 2\n",
    "simple_tuple = (\"item1\", 2, 'item3', 4)\n",
    "\n",
    "# define tuple to add \n",
    "add_tuple = (\"item5\",)\n",
    "\n",
    "simple_tuple = simple_tuple+add_tuple\n",
    "\n",
    "print(simple_tuple)"
   ]
  },
  {
   "cell_type": "markdown",
   "metadata": {
    "id": "PF6OzqBGlU-Q"
   },
   "source": [
    "### Unpack Tuples\n",
    "- Tuples creation process discussed till now, also means \"packing\" a tuple.\n",
    "  - Example: sample_tuple = ('python', 'is', 'awesome')\n",
    "\n",
    "- Unpacking Tuples means extracting values back into variables.\n",
    "  - Example: `first_item, secon_item, third_item = sample_tuple`\n",
    "  "
   ]
  },
  {
   "cell_type": "code",
   "execution_count": 26,
   "metadata": {
    "executionInfo": {
     "elapsed": 6,
     "status": "ok",
     "timestamp": 1686322292512,
     "user": {
      "displayName": "Anish Thapaliya",
      "userId": "06325140887572930045"
     },
     "user_tz": -345
    },
    "id": "vYZ04xD0kSBc"
   },
   "outputs": [
    {
     "name": "stdout",
     "output_type": "stream",
     "text": [
      "item1\n",
      "2\n",
      "item3\n",
      "4\n"
     ]
    }
   ],
   "source": [
    "# create tuples of length 4\n",
    "# unpack tuples items to 4 other variables\n",
    "\n",
    "a, b, c, d = simple_tuple = (\"item1\", 2, 'item3', 4)\n",
    "\n",
    "print(a)\n",
    "print(b)\n",
    "print(c)\n",
    "print(d)"
   ]
  },
  {
   "cell_type": "markdown",
   "metadata": {
    "id": "y6pAloqZpCzp"
   },
   "source": [
    "`Unpack Tuples using Asterik *`\n",
    "- Useful, if number of variables is less than the number of items in tuples"
   ]
  },
  {
   "cell_type": "code",
   "execution_count": 27,
   "metadata": {
    "executionInfo": {
     "elapsed": 511,
     "status": "ok",
     "timestamp": 1686322379785,
     "user": {
      "displayName": "Anish Thapaliya",
      "userId": "06325140887572930045"
     },
     "user_tz": -345
    },
    "id": "dJFsZyeBpCK6"
   },
   "outputs": [
    {
     "name": "stdout",
     "output_type": "stream",
     "text": [
      "item1\n",
      "[2, 'item3']\n",
      "4\n"
     ]
    }
   ],
   "source": [
    "# Unpack Tuples values using 3 variables\n",
    "# Hint: a, *b, c\n",
    "\n",
    "a, *b, c = simple_tuple\n",
    "\n",
    "print(a)\n",
    "print(b)\n",
    "print(c)"
   ]
  },
  {
   "cell_type": "markdown",
   "metadata": {
    "id": "VRNaYgYEpZrG"
   },
   "source": [
    "### 9. Loop Tuples\n",
    "- Similar to List, you can loop through Tuples items using a `for` loop.\n",
    "\n",
    "`Q. Initialize Tuples and loop through Tuples items one by one.`"
   ]
  },
  {
   "cell_type": "code",
   "execution_count": 28,
   "metadata": {
    "executionInfo": {
     "elapsed": 2,
     "status": "ok",
     "timestamp": 1686368252893,
     "user": {
      "displayName": "Anish Thapaliya",
      "userId": "06325140887572930045"
     },
     "user_tz": -345
    },
    "id": "iXIz4OIepQpZ"
   },
   "outputs": [
    {
     "name": "stdout",
     "output_type": "stream",
     "text": [
      "item1\n",
      "---------------\n",
      "2\n",
      "---------------\n",
      "item3\n",
      "---------------\n",
      "4\n",
      "---------------\n"
     ]
    }
   ],
   "source": [
    "# write your program here\n",
    "simple_tuple = (\"item1\", 2, 'item3', 4)\n",
    "\n",
    "for item in simple_tuple:\n",
    "    print(item)\n",
    "    print('---------------')"
   ]
  },
  {
   "cell_type": "markdown",
   "metadata": {
    "id": "VZFihVzFYhrY"
   },
   "source": [
    "`Q. Use enumerate() function to loop through Tupes to get index and values.`"
   ]
  },
  {
   "cell_type": "code",
   "execution_count": 29,
   "metadata": {
    "executionInfo": {
     "elapsed": 10,
     "status": "ok",
     "timestamp": 1686369637254,
     "user": {
      "displayName": "Anish Thapaliya",
      "userId": "06325140887572930045"
     },
     "user_tz": -345
    },
    "id": "1Fxq4QttYW7l"
   },
   "outputs": [
    {
     "name": "stdout",
     "output_type": "stream",
     "text": [
      "0 item1\n",
      "--------------------\n",
      "1 2\n",
      "--------------------\n",
      "2 item3\n",
      "--------------------\n",
      "3 4\n",
      "--------------------\n"
     ]
    }
   ],
   "source": [
    "# write your program here\n",
    "simple_tuple = (\"item1\", 2, 'item3', 4)\n",
    "\n",
    "for idx, item in enumerate(simple_tuple):\n",
    "    print(idx, item)\n",
    "    print('--------------------')"
   ]
  },
  {
   "cell_type": "markdown",
   "metadata": {
    "id": "Zfofw_mqdpoH"
   },
   "source": [
    "**Like List, is there a Tuple comprehension?**  \n",
    "`There is no Tuple comprehension like List. But we can use tuple() function to accomplish Tuple Comprehension`\n",
    "\n",
    "\n",
    "`Q.1 Write a python program to lowercase item in given Tuples using Tuple comprehension.`\n",
    "  - Input: sample_tuple = (\"APPLE\", \"Mango\", \"BaNaNa\", \"GRapes\")\n",
    "  - Output: lower_tuple = (\"apple\", \"mango\", \"banana\", \"grapes\")"
   ]
  },
  {
   "cell_type": "code",
   "execution_count": 30,
   "metadata": {
    "executionInfo": {
     "elapsed": 3,
     "status": "ok",
     "timestamp": 1686372031918,
     "user": {
      "displayName": "Anish Thapaliya",
      "userId": "06325140887572930045"
     },
     "user_tz": -345
    },
    "id": "SUskR-X6do7K"
   },
   "outputs": [
    {
     "name": "stdout",
     "output_type": "stream",
     "text": [
      "('apple', 'mango', 'banana', 'grapes')\n"
     ]
    }
   ],
   "source": [
    "# write your program here\n",
    "sample_tuple = (\"APPLE\", \"Mango\", \"BaNaNa\", \"GRapes\")\n",
    "\n",
    "lower_tuple = tuple(item.lower() for item in sample_tuple)\n",
    "\n",
    "print(lower_tuple)"
   ]
  }
 ],
 "metadata": {
  "colab": {
   "authorship_tag": "ABX9TyO+JfHzIkbPI8ZmB3uE0HHY",
   "provenance": []
  },
  "kernelspec": {
   "display_name": "Python 3 (ipykernel)",
   "language": "python",
   "name": "python3"
  },
  "language_info": {
   "codemirror_mode": {
    "name": "ipython",
    "version": 3
   },
   "file_extension": ".py",
   "mimetype": "text/x-python",
   "name": "python",
   "nbconvert_exporter": "python",
   "pygments_lexer": "ipython3",
   "version": "3.11.5"
  }
 },
 "nbformat": 4,
 "nbformat_minor": 4
}
