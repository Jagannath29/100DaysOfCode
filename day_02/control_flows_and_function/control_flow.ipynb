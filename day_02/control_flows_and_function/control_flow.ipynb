{
 "cells": [
  {
   "cell_type": "markdown",
   "metadata": {},
   "source": [
    "# Selection/Decision control statements\n",
    "- In Python, the selection statements are also known as Decision control statements or branching statements.\n",
    "\n",
    "- The selection statement allows a program to test several conditions and execute instructions based on which condition is true."
   ]
  },
  {
   "cell_type": "markdown",
   "metadata": {},
   "source": [
    "## if\n",
    "- It help us to run a particular code, but only when a certain condition is met or satisfied. A if only has one condition to check."
   ]
  },
  {
   "cell_type": "code",
   "execution_count": 2,
   "metadata": {},
   "outputs": [
    {
     "name": "stdout",
     "output_type": "stream",
     "text": [
      "20 is even number.\n"
     ]
    }
   ],
   "source": [
    "# example\n",
    "\n",
    "number = 20\n",
    "if number%2==0:\n",
    "    print(f'{number} is even number.')\n",
    "\n"
   ]
  },
  {
   "cell_type": "markdown",
   "metadata": {},
   "source": [
    "## if-else\n",
    "- The if-else statement evaluates the condition and will execute the body of if if the test condition is True, but if the condition is False, then the body of else is executed."
   ]
  },
  {
   "cell_type": "code",
   "execution_count": 3,
   "metadata": {},
   "outputs": [
    {
     "name": "stdout",
     "output_type": "stream",
     "text": [
      "11 is odd number.\n"
     ]
    }
   ],
   "source": [
    "# example\n",
    "\n",
    "number = 11\n",
    "if number%2==0:\n",
    "    print(f'{number} is even number.')\n",
    "else:\n",
    "    print(f'{number} is odd number.')\n",
    "    \n",
    "\n"
   ]
  },
  {
   "cell_type": "markdown",
   "metadata": {},
   "source": [
    "## Nested if\n",
    "- Nested if statements are an if statement inside another if statement."
   ]
  },
  {
   "cell_type": "code",
   "execution_count": 4,
   "metadata": {},
   "outputs": [
    {
     "name": "stdout",
     "output_type": "stream",
     "text": [
      "c is big\n"
     ]
    }
   ],
   "source": [
    "# Example\n",
    "\n",
    "a = 2\n",
    "b = 4\n",
    "c = 8\n",
    "if a > b:\n",
    "   if a > c:\n",
    "      print(\"a value is big\")\n",
    "   else:\n",
    "       print(\"c value is big\")\n",
    "elif b > c:\n",
    "    print(\"b value is big\")\n",
    "else:\n",
    "     print(\"c is big\")"
   ]
  },
  {
   "cell_type": "markdown",
   "metadata": {},
   "source": [
    "In the above code example, we can see first if condition checks a is greater than b. If yes, then we've another if condition that checks a is also greater than c. If yes, then if body will be executed."
   ]
  },
  {
   "cell_type": "markdown",
   "metadata": {},
   "source": [
    "## if-elif-else\n",
    "- The if-elif-else statement is used to conditionally execute a statement or a block of statements."
   ]
  },
  {
   "cell_type": "code",
   "execution_count": 5,
   "metadata": {},
   "outputs": [
    {
     "name": "stdout",
     "output_type": "stream",
     "text": [
      "x is greater than y\n"
     ]
    }
   ],
   "source": [
    "# Example\n",
    "\n",
    "x = 15\n",
    "y = 12\n",
    "if x == y:\n",
    "   print(\"Both are Equal\")\n",
    "elif x > y:\n",
    "    print(\"x is greater than y\")\n",
    "else:\n",
    "    print(\"x is smaller than y\")"
   ]
  },
  {
   "cell_type": "markdown",
   "metadata": {},
   "source": [
    "In the above code, the initial if statement checks whether 15 is equal to 12. If not, the elif condition will verify that 15 is greater than 12. If this condition is true, the code block inside elif will be executed. Otherwise, the code in the else block will be executed if none of the preceding conditions are met."
   ]
  },
  {
   "cell_type": "markdown",
   "metadata": {},
   "source": [
    "# Repetition, Iteration\n",
    "- A repetition statement is used to repeat a group(block) of programming instructions.\n",
    "\n",
    "- Let's look at\n",
    "\n",
    "    - `for` loop \n",
    "\n",
    "    - `while` loop "
   ]
  },
  {
   "cell_type": "markdown",
   "metadata": {},
   "source": [
    "## for loop\n",
    "- A for loop is used to iterate over a sequence that is either a list, tuple, dictionary, or a set. We can execute a set of statements once for each item in a list, tuple, or dictionary."
   ]
  },
  {
   "cell_type": "code",
   "execution_count": 9,
   "metadata": {},
   "outputs": [
    {
     "name": "stdout",
     "output_type": "stream",
     "text": [
      "1st example\n",
      "1 \n",
      "2 \n",
      "3 \n",
      "2nd example\n",
      "0 \n",
      "1 \n",
      "2 \n",
      "3 \n",
      "4 \n"
     ]
    }
   ],
   "source": [
    "# Example\n",
    "\n",
    "print(\"1st example\")\n",
    "\n",
    "lst = [1, 2, 3]\n",
    "lenghto_of_list = len(lst)\n",
    "for i in range(lenghto_of_list):\n",
    "     print(lst[i], end = \" \\n\")\n",
    " \n",
    "print(\"2nd example\")\n",
    "\n",
    "for j in range(0,5):\n",
    "    # \\n breaks line\n",
    "    print(j, end = \" \\n\")"
   ]
  },
  {
   "cell_type": "markdown",
   "metadata": {},
   "source": [
    "## while loop\n",
    "- In Python, while loops are used to execute a block of statements repeatedly until a given condition is satisfied. Then, the expression is checked again and, if it is still true, the body is executed again. This continues until the expression becomes false."
   ]
  },
  {
   "cell_type": "code",
   "execution_count": 12,
   "metadata": {},
   "outputs": [
    {
     "name": "stdout",
     "output_type": "stream",
     "text": [
      "4 5 6 7 8 9 End\n"
     ]
    }
   ],
   "source": [
    "# Example\n",
    "\n",
    "max_num_for_i = 10\n",
    "i = 4\n",
    "while i < max_num_for_i:\n",
    "     print(i, end = \" \")\n",
    "     i = i + 1\n",
    "print(\"End\")"
   ]
  }
 ],
 "metadata": {
  "kernelspec": {
   "display_name": "100Venv",
   "language": "python",
   "name": "python3"
  },
  "language_info": {
   "codemirror_mode": {
    "name": "ipython",
    "version": 3
   },
   "file_extension": ".py",
   "mimetype": "text/x-python",
   "name": "python",
   "nbconvert_exporter": "python",
   "pygments_lexer": "ipython3",
   "version": "3.10.12"
  }
 },
 "nbformat": 4,
 "nbformat_minor": 2
}
