{
 "cells": [
  {
   "cell_type": "markdown",
   "metadata": {},
   "source": [
    "# Shape Abstraction\n",
    "\n",
    "## Objective\n",
    "Create a set of classes representing different shapes, emphasizing abstraction by using abstract methods.\n",
    "\n",
    "## Requirements\n",
    "1. Create an abstract class named Shape with the following abstract methods:\n",
    "   - `area`: to calculate the area of the shape.\n",
    "   - `perimeter`: to calculate the perimeter of the shape.\n",
    "   - `display_info`: to display information about the shape.\n",
    "\n",
    "2. Implement concrete classes for the following shapes, inheriting from the Shape class:\n",
    "   - Circle: Representing a circle. It should take the radius as a parameter.\n",
    "   - Rectangle: Representing a rectangle. It should take the length and width as parameters.\n",
    "   - Triangle: Representing an equilateral triangle. It should take the side length as a parameter.\n",
    "\n",
    "3. Implement the abstract methods in each concrete class to provide the specific calculations for area and perimeter.\n",
    "\n",
    "4. Demonstrate the usage of these classes in the main program by creating instances of each shape, calculating and displaying their area and perimeter.\n"
   ]
  }
 ],
 "metadata": {
  "language_info": {
   "name": "python"
  }
 },
 "nbformat": 4,
 "nbformat_minor": 2
}
