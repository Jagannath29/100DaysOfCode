{
 "cells": [
  {
   "cell_type": "markdown",
   "metadata": {},
   "source": [
    "#### Question 1\n",
    "\n",
    "<li>Read 'Fortune_1000.csv' file using pandas read_csv() method and store it in a variable named f1000.</li>\n",
    "<li>Select the rank, revenues, and rank_change columns in f1000. Then, use the df.head() method to select first five rows.</li>\n",
    "<li>Select just the fifth row of the f1000 dataframe. Assign the result to fifth_row using iloc.</li>\n",
    "<li>Select the value in first row of the company column. Assign the result to company_value.</li>\n",
    "<li>Select the last three rows of the f1000 dataframe. Assign the result to last_three_rows.</li>\n",
    "<li>Select the first to seventh rows and the first five columns of the f1000 dataframe.</li>\n",
    "\n"
   ]
  },
  {
   "cell_type": "code",
   "execution_count": 1,
   "metadata": {},
   "outputs": [],
   "source": [
    "# import libraries\n",
    "\n",
    "import pandas as pd\n",
    "import numpy as np\n"
   ]
  },
  {
   "cell_type": "code",
   "execution_count": 2,
   "metadata": {},
   "outputs": [
    {
     "data": {
      "text/html": [
       "<div>\n",
       "<style scoped>\n",
       "    .dataframe tbody tr th:only-of-type {\n",
       "        vertical-align: middle;\n",
       "    }\n",
       "\n",
       "    .dataframe tbody tr th {\n",
       "        vertical-align: top;\n",
       "    }\n",
       "\n",
       "    .dataframe thead th {\n",
       "        text-align: right;\n",
       "    }\n",
       "</style>\n",
       "<table border=\"1\" class=\"dataframe\">\n",
       "  <thead>\n",
       "    <tr style=\"text-align: right;\">\n",
       "      <th></th>\n",
       "      <th>rank</th>\n",
       "      <th>revenue</th>\n",
       "      <th>rank_change</th>\n",
       "    </tr>\n",
       "  </thead>\n",
       "  <tbody>\n",
       "    <tr>\n",
       "      <th>0</th>\n",
       "      <td>1</td>\n",
       "      <td>572754.0</td>\n",
       "      <td>0.0</td>\n",
       "    </tr>\n",
       "    <tr>\n",
       "      <th>1</th>\n",
       "      <td>2</td>\n",
       "      <td>469822.0</td>\n",
       "      <td>0.0</td>\n",
       "    </tr>\n",
       "    <tr>\n",
       "      <th>2</th>\n",
       "      <td>3</td>\n",
       "      <td>365817.0</td>\n",
       "      <td>0.0</td>\n",
       "    </tr>\n",
       "    <tr>\n",
       "      <th>3</th>\n",
       "      <td>4</td>\n",
       "      <td>292111.0</td>\n",
       "      <td>0.0</td>\n",
       "    </tr>\n",
       "    <tr>\n",
       "      <th>4</th>\n",
       "      <td>5</td>\n",
       "      <td>287597.0</td>\n",
       "      <td>0.0</td>\n",
       "    </tr>\n",
       "  </tbody>\n",
       "</table>\n",
       "</div>"
      ],
      "text/plain": [
       "   rank   revenue  rank_change\n",
       "0     1  572754.0          0.0\n",
       "1     2  469822.0          0.0\n",
       "2     3  365817.0          0.0\n",
       "3     4  292111.0          0.0\n",
       "4     5  287597.0          0.0"
      ]
     },
     "execution_count": 2,
     "metadata": {},
     "output_type": "execute_result"
    }
   ],
   "source": [
    "# selecting rank, revenue, rank_change column\n",
    "f1000 = pd.read_csv('Fortune_1000.csv')\n",
    "f1000 = f1000.loc[:, ['rank', 'revenue', 'rank_change']]\n",
    "f1000.head()"
   ]
  },
  {
   "cell_type": "code",
   "execution_count": 3,
   "metadata": {},
   "outputs": [
    {
     "data": {
      "text/html": [
       "<div>\n",
       "<style scoped>\n",
       "    .dataframe tbody tr th:only-of-type {\n",
       "        vertical-align: middle;\n",
       "    }\n",
       "\n",
       "    .dataframe tbody tr th {\n",
       "        vertical-align: top;\n",
       "    }\n",
       "\n",
       "    .dataframe thead th {\n",
       "        text-align: right;\n",
       "    }\n",
       "</style>\n",
       "<table border=\"1\" class=\"dataframe\">\n",
       "  <thead>\n",
       "    <tr style=\"text-align: right;\">\n",
       "      <th></th>\n",
       "      <th>company</th>\n",
       "      <th>rank</th>\n",
       "      <th>rank_change</th>\n",
       "      <th>revenue</th>\n",
       "      <th>profit</th>\n",
       "      <th>num. of employees</th>\n",
       "      <th>sector</th>\n",
       "      <th>city</th>\n",
       "      <th>state</th>\n",
       "      <th>newcomer</th>\n",
       "      <th>ceo_founder</th>\n",
       "      <th>ceo_woman</th>\n",
       "      <th>profitable</th>\n",
       "      <th>prev_rank</th>\n",
       "      <th>CEO</th>\n",
       "      <th>Website</th>\n",
       "      <th>Ticker</th>\n",
       "      <th>Market Cap</th>\n",
       "    </tr>\n",
       "  </thead>\n",
       "  <tbody>\n",
       "    <tr>\n",
       "      <th>0</th>\n",
       "      <td>Walmart</td>\n",
       "      <td>1</td>\n",
       "      <td>0.0</td>\n",
       "      <td>572754.0</td>\n",
       "      <td>13673.0</td>\n",
       "      <td>2300000.0</td>\n",
       "      <td>Retailing</td>\n",
       "      <td>Bentonville</td>\n",
       "      <td>AR</td>\n",
       "      <td>no</td>\n",
       "      <td>no</td>\n",
       "      <td>no</td>\n",
       "      <td>yes</td>\n",
       "      <td>1.0</td>\n",
       "      <td>C. Douglas McMillon</td>\n",
       "      <td>https://www.stock.walmart.com</td>\n",
       "      <td>WMT</td>\n",
       "      <td>352037</td>\n",
       "    </tr>\n",
       "    <tr>\n",
       "      <th>1</th>\n",
       "      <td>Amazon</td>\n",
       "      <td>2</td>\n",
       "      <td>0.0</td>\n",
       "      <td>469822.0</td>\n",
       "      <td>33364.0</td>\n",
       "      <td>1608000.0</td>\n",
       "      <td>Retailing</td>\n",
       "      <td>Seattle</td>\n",
       "      <td>WA</td>\n",
       "      <td>no</td>\n",
       "      <td>no</td>\n",
       "      <td>no</td>\n",
       "      <td>yes</td>\n",
       "      <td>2.0</td>\n",
       "      <td>Andrew R. Jassy</td>\n",
       "      <td>www.amazon.com</td>\n",
       "      <td>AMZN</td>\n",
       "      <td>1202717</td>\n",
       "    </tr>\n",
       "    <tr>\n",
       "      <th>2</th>\n",
       "      <td>Apple</td>\n",
       "      <td>3</td>\n",
       "      <td>0.0</td>\n",
       "      <td>365817.0</td>\n",
       "      <td>94680.0</td>\n",
       "      <td>154000.0</td>\n",
       "      <td>Technology</td>\n",
       "      <td>Cupertino</td>\n",
       "      <td>CA</td>\n",
       "      <td>no</td>\n",
       "      <td>no</td>\n",
       "      <td>no</td>\n",
       "      <td>yes</td>\n",
       "      <td>3.0</td>\n",
       "      <td>Timothy D. Cook</td>\n",
       "      <td>www.apple.com</td>\n",
       "      <td>AAPL</td>\n",
       "      <td>2443962</td>\n",
       "    </tr>\n",
       "    <tr>\n",
       "      <th>3</th>\n",
       "      <td>CVS Health</td>\n",
       "      <td>4</td>\n",
       "      <td>0.0</td>\n",
       "      <td>292111.0</td>\n",
       "      <td>7910.0</td>\n",
       "      <td>258000.0</td>\n",
       "      <td>Health Care</td>\n",
       "      <td>Woonsocket</td>\n",
       "      <td>RI</td>\n",
       "      <td>no</td>\n",
       "      <td>no</td>\n",
       "      <td>yes</td>\n",
       "      <td>yes</td>\n",
       "      <td>4.0</td>\n",
       "      <td>Karen Lynch</td>\n",
       "      <td>https://www.cvshealth.com</td>\n",
       "      <td>CVS</td>\n",
       "      <td>125204</td>\n",
       "    </tr>\n",
       "    <tr>\n",
       "      <th>4</th>\n",
       "      <td>UnitedHealth Group</td>\n",
       "      <td>5</td>\n",
       "      <td>0.0</td>\n",
       "      <td>287597.0</td>\n",
       "      <td>17285.0</td>\n",
       "      <td>350000.0</td>\n",
       "      <td>Health Care</td>\n",
       "      <td>Minnetonka</td>\n",
       "      <td>MN</td>\n",
       "      <td>no</td>\n",
       "      <td>no</td>\n",
       "      <td>no</td>\n",
       "      <td>yes</td>\n",
       "      <td>5.0</td>\n",
       "      <td>Andrew P. Witty</td>\n",
       "      <td>www.unitedhealthgroup.com</td>\n",
       "      <td>UNH</td>\n",
       "      <td>500468</td>\n",
       "    </tr>\n",
       "  </tbody>\n",
       "</table>\n",
       "</div>"
      ],
      "text/plain": [
       "              company  rank  rank_change   revenue   profit  \\\n",
       "0             Walmart     1          0.0  572754.0  13673.0   \n",
       "1              Amazon     2          0.0  469822.0  33364.0   \n",
       "2               Apple     3          0.0  365817.0  94680.0   \n",
       "3          CVS Health     4          0.0  292111.0   7910.0   \n",
       "4  UnitedHealth Group     5          0.0  287597.0  17285.0   \n",
       "\n",
       "   num. of employees       sector         city state newcomer ceo_founder  \\\n",
       "0          2300000.0    Retailing  Bentonville    AR       no          no   \n",
       "1          1608000.0    Retailing      Seattle    WA       no          no   \n",
       "2           154000.0   Technology    Cupertino    CA       no          no   \n",
       "3           258000.0  Health Care   Woonsocket    RI       no          no   \n",
       "4           350000.0  Health Care   Minnetonka    MN       no          no   \n",
       "\n",
       "  ceo_woman profitable prev_rank                  CEO  \\\n",
       "0        no        yes       1.0  C. Douglas McMillon   \n",
       "1        no        yes       2.0      Andrew R. Jassy   \n",
       "2        no        yes       3.0      Timothy D. Cook   \n",
       "3       yes        yes       4.0          Karen Lynch   \n",
       "4        no        yes       5.0      Andrew P. Witty   \n",
       "\n",
       "                         Website Ticker Market Cap  \n",
       "0  https://www.stock.walmart.com    WMT     352037  \n",
       "1                 www.amazon.com   AMZN    1202717  \n",
       "2                  www.apple.com   AAPL    2443962  \n",
       "3      https://www.cvshealth.com    CVS     125204  \n",
       "4      www.unitedhealthgroup.com    UNH     500468  "
      ]
     },
     "execution_count": 3,
     "metadata": {},
     "output_type": "execute_result"
    }
   ],
   "source": [
    "f1000_ = pd.read_csv('Fortune_1000.csv')\n",
    "f1000_.head()"
   ]
  },
  {
   "cell_type": "code",
   "execution_count": 4,
   "metadata": {},
   "outputs": [
    {
     "name": "stdout",
     "output_type": "stream",
     "text": [
      "rank                5.0\n",
      "revenue        287597.0\n",
      "rank_change         0.0\n",
      "Name: 4, dtype: float64\n"
     ]
    }
   ],
   "source": [
    "# select just fifth row\n",
    "fifth_row = f1000.iloc[4]\n",
    "print(fifth_row)"
   ]
  },
  {
   "cell_type": "code",
   "execution_count": 5,
   "metadata": {},
   "outputs": [
    {
     "name": "stdout",
     "output_type": "stream",
     "text": [
      "company    Walmart\n",
      "Name: 0, dtype: object\n"
     ]
    }
   ],
   "source": [
    "# select the first row of the company column\n",
    "company_value = f1000_.loc[0, ['company']]\n",
    "print(company_value)\n"
   ]
  },
  {
   "cell_type": "code",
   "execution_count": 6,
   "metadata": {},
   "outputs": [
    {
     "name": "stdout",
     "output_type": "stream",
     "text": [
      "     rank  revenue  rank_change\n",
      "997   998   2112.8          0.0\n",
      "998   999   2111.0          0.0\n",
      "999  1000   2107.2          0.0\n"
     ]
    }
   ],
   "source": [
    "# last three row\n",
    "last_three_row = f1000.iloc[-3:]\n",
    "print(last_three_row)"
   ]
  },
  {
   "cell_type": "code",
   "execution_count": 7,
   "metadata": {},
   "outputs": [
    {
     "name": "stdout",
     "output_type": "stream",
     "text": [
      "              company  rank  rank_change   revenue   profit\n",
      "0             Walmart     1          0.0  572754.0  13673.0\n",
      "1              Amazon     2          0.0  469822.0  33364.0\n",
      "2               Apple     3          0.0  365817.0  94680.0\n",
      "3          CVS Health     4          0.0  292111.0   7910.0\n",
      "4  UnitedHealth Group     5          0.0  287597.0  17285.0\n",
      "5         Exxon Mobil     6          4.0  285640.0  23040.0\n",
      "6  Berkshire Hathaway     7         -1.0  276094.0  89795.0\n"
     ]
    }
   ],
   "source": [
    "# select first to seventh rows and first five column\n",
    "\n",
    "first_7_row_first_5_column = f1000_.iloc[0:7, 0:5]\n",
    "print(first_7_row_first_5_column)"
   ]
  },
  {
   "cell_type": "markdown",
   "metadata": {},
   "source": [
    "#### Question 2\n",
    "<li>Use the Series.isnull() method to select all rows from f1000 that have a null value for the prev_rank column.</li>\n",
    "<li>Select only the company, rank, and previous_rank columns where previous_rank column is null.</li>\n",
    "<li>Use the Series.notnull() method to select all rows from f1000 that have a non-null value for the previous_rank column.</li></b>\n",
    "<li>From the previously_ranked dataframe, subtract the rank column from the previous_rank column.</li>\n",
    "<li>Assign the values in the rank_change to a new column in the f1000 dataframe, \"rank_change\".</li>"
   ]
  },
  {
   "cell_type": "code",
   "execution_count": 8,
   "metadata": {},
   "outputs": [
    {
     "name": "stdout",
     "output_type": "stream",
     "text": [
      "0      False\n",
      "1      False\n",
      "2      False\n",
      "3      False\n",
      "4      False\n",
      "       ...  \n",
      "995    False\n",
      "996    False\n",
      "997    False\n",
      "998    False\n",
      "999    False\n",
      "Name: prev_rank, Length: 1000, dtype: bool\n",
      "Length of true value: 0\n"
     ]
    }
   ],
   "source": [
    "# select all rows that has null value in  prev_rank column\n",
    "\n",
    "df = f1000_.loc[:, 'prev_rank']\n",
    "prev_rank_col = pd.Series.isnull(df)\n",
    "\n",
    "print(prev_rank_col)\n",
    "true_indices = prev_rank_col[prev_rank_col].index\n",
    "\n",
    "print(f'Length of true value: {len(true_indices)}')"
   ]
  },
  {
   "cell_type": "code",
   "execution_count": 9,
   "metadata": {},
   "outputs": [
    {
     "name": "stdout",
     "output_type": "stream",
     "text": [
      "Empty DataFrame\n",
      "Columns: [company, rank, prev_rank]\n",
      "Index: []\n"
     ]
    }
   ],
   "source": [
    "# select only the company, rank and previous rank column where previous rank is null\n",
    "\n",
    "previous_rank = f1000_.loc[:, ['company', 'rank', 'prev_rank']]\n",
    "# previous_rank\n",
    "\n",
    "prev_null = previous_rank['company'].isnull() | previous_rank['rank'].isnull() |previous_rank['prev_rank'].isnull() \n",
    "# result = previous_rank.loc[:,   previous_rank]\n",
    "result_df = previous_rank[prev_null]\n",
    "print(result_df)"
   ]
  },
  {
   "cell_type": "code",
   "execution_count": 10,
   "metadata": {},
   "outputs": [
    {
     "data": {
      "text/plain": [
       "0      1.0\n",
       "1      2.0\n",
       "2      3.0\n",
       "3      4.0\n",
       "4      5.0\n",
       "      ... \n",
       "995       \n",
       "996       \n",
       "997       \n",
       "998       \n",
       "999       \n",
       "Name: prev_rank, Length: 1000, dtype: object"
      ]
     },
     "execution_count": 10,
     "metadata": {},
     "output_type": "execute_result"
    }
   ],
   "source": [
    "\n",
    "f1000_ = f1000_['prev_rank']\n",
    "selected_rows = f1000_[f1000_.notnull()]\n",
    "selected_rows"
   ]
  },
  {
   "cell_type": "code",
   "execution_count": 11,
   "metadata": {},
   "outputs": [
    {
     "ename": "KeyError",
     "evalue": "'prev_rank'",
     "output_type": "error",
     "traceback": [
      "\u001b[1;31m---------------------------------------------------------------------------\u001b[0m",
      "\u001b[1;31mKeyError\u001b[0m                                  Traceback (most recent call last)",
      "Cell \u001b[1;32mIn[11], line 1\u001b[0m\n\u001b[1;32m----> 1\u001b[0m f1000_[\u001b[38;5;124m'\u001b[39m\u001b[38;5;124mprev_rank\u001b[39m\u001b[38;5;124m'\u001b[39m] \u001b[38;5;241m=\u001b[39m pd\u001b[38;5;241m.\u001b[39mto_numeric(\u001b[43mf1000_\u001b[49m\u001b[43m[\u001b[49m\u001b[38;5;124;43m'\u001b[39;49m\u001b[38;5;124;43mprev_rank\u001b[39;49m\u001b[38;5;124;43m'\u001b[39;49m\u001b[43m]\u001b[49m)\n\u001b[0;32m      3\u001b[0m f1000_[\u001b[38;5;124m'\u001b[39m\u001b[38;5;124mrank_change\u001b[39m\u001b[38;5;124m'\u001b[39m] \u001b[38;5;241m=\u001b[39m f1000_[\u001b[38;5;124m'\u001b[39m\u001b[38;5;124mprev_rank\u001b[39m\u001b[38;5;124m'\u001b[39m] \u001b[38;5;241m-\u001b[39m f1000_[\u001b[38;5;124m'\u001b[39m\u001b[38;5;124mrank\u001b[39m\u001b[38;5;124m'\u001b[39m]\n\u001b[0;32m      5\u001b[0m f1000_ \u001b[38;5;241m=\u001b[39m f1000_\u001b[38;5;241m.\u001b[39mloc[:, [\u001b[38;5;124m'\u001b[39m\u001b[38;5;124mrank_change\u001b[39m\u001b[38;5;124m'\u001b[39m, \u001b[38;5;124m'\u001b[39m\u001b[38;5;124mrank\u001b[39m\u001b[38;5;124m'\u001b[39m, \u001b[38;5;124m'\u001b[39m\u001b[38;5;124mprev_rank\u001b[39m\u001b[38;5;124m'\u001b[39m]]\n",
      "File \u001b[1;32mc:\\Users\\Dell\\Downloads\\Data Science\\pythonForMachineLearningAndDataScience\\venv\\Lib\\site-packages\\pandas\\core\\series.py:1112\u001b[0m, in \u001b[0;36mSeries.__getitem__\u001b[1;34m(self, key)\u001b[0m\n\u001b[0;32m   1109\u001b[0m     \u001b[38;5;28;01mreturn\u001b[39;00m \u001b[38;5;28mself\u001b[39m\u001b[38;5;241m.\u001b[39m_values[key]\n\u001b[0;32m   1111\u001b[0m \u001b[38;5;28;01melif\u001b[39;00m key_is_scalar:\n\u001b[1;32m-> 1112\u001b[0m     \u001b[38;5;28;01mreturn\u001b[39;00m \u001b[38;5;28;43mself\u001b[39;49m\u001b[38;5;241;43m.\u001b[39;49m\u001b[43m_get_value\u001b[49m\u001b[43m(\u001b[49m\u001b[43mkey\u001b[49m\u001b[43m)\u001b[49m\n\u001b[0;32m   1114\u001b[0m \u001b[38;5;66;03m# Convert generator to list before going through hashable part\u001b[39;00m\n\u001b[0;32m   1115\u001b[0m \u001b[38;5;66;03m# (We will iterate through the generator there to check for slices)\u001b[39;00m\n\u001b[0;32m   1116\u001b[0m \u001b[38;5;28;01mif\u001b[39;00m is_iterator(key):\n",
      "File \u001b[1;32mc:\\Users\\Dell\\Downloads\\Data Science\\pythonForMachineLearningAndDataScience\\venv\\Lib\\site-packages\\pandas\\core\\series.py:1228\u001b[0m, in \u001b[0;36mSeries._get_value\u001b[1;34m(self, label, takeable)\u001b[0m\n\u001b[0;32m   1225\u001b[0m     \u001b[38;5;28;01mreturn\u001b[39;00m \u001b[38;5;28mself\u001b[39m\u001b[38;5;241m.\u001b[39m_values[label]\n\u001b[0;32m   1227\u001b[0m \u001b[38;5;66;03m# Similar to Index.get_value, but we do not fall back to positional\u001b[39;00m\n\u001b[1;32m-> 1228\u001b[0m loc \u001b[38;5;241m=\u001b[39m \u001b[38;5;28;43mself\u001b[39;49m\u001b[38;5;241;43m.\u001b[39;49m\u001b[43mindex\u001b[49m\u001b[38;5;241;43m.\u001b[39;49m\u001b[43mget_loc\u001b[49m\u001b[43m(\u001b[49m\u001b[43mlabel\u001b[49m\u001b[43m)\u001b[49m\n\u001b[0;32m   1230\u001b[0m \u001b[38;5;28;01mif\u001b[39;00m is_integer(loc):\n\u001b[0;32m   1231\u001b[0m     \u001b[38;5;28;01mreturn\u001b[39;00m \u001b[38;5;28mself\u001b[39m\u001b[38;5;241m.\u001b[39m_values[loc]\n",
      "File \u001b[1;32mc:\\Users\\Dell\\Downloads\\Data Science\\pythonForMachineLearningAndDataScience\\venv\\Lib\\site-packages\\pandas\\core\\indexes\\range.py:417\u001b[0m, in \u001b[0;36mRangeIndex.get_loc\u001b[1;34m(self, key)\u001b[0m\n\u001b[0;32m    415\u001b[0m         \u001b[38;5;28;01mraise\u001b[39;00m \u001b[38;5;167;01mKeyError\u001b[39;00m(key) \u001b[38;5;28;01mfrom\u001b[39;00m \u001b[38;5;21;01merr\u001b[39;00m\n\u001b[0;32m    416\u001b[0m \u001b[38;5;28;01mif\u001b[39;00m \u001b[38;5;28misinstance\u001b[39m(key, Hashable):\n\u001b[1;32m--> 417\u001b[0m     \u001b[38;5;28;01mraise\u001b[39;00m \u001b[38;5;167;01mKeyError\u001b[39;00m(key)\n\u001b[0;32m    418\u001b[0m \u001b[38;5;28mself\u001b[39m\u001b[38;5;241m.\u001b[39m_check_indexing_error(key)\n\u001b[0;32m    419\u001b[0m \u001b[38;5;28;01mraise\u001b[39;00m \u001b[38;5;167;01mKeyError\u001b[39;00m(key)\n",
      "\u001b[1;31mKeyError\u001b[0m: 'prev_rank'"
     ]
    }
   ],
   "source": [
    "f1000_['prev_rank'] = pd.to_numeric(f1000_['prev_rank'])\n",
    "\n",
    "f1000_['rank_change'] = f1000_['prev_rank'] - f1000_['rank']\n",
    "\n",
    "f1000_ = f1000_.loc[:, ['rank_change', 'rank', 'prev_rank']]\n"
   ]
  },
  {
   "cell_type": "markdown",
   "metadata": {},
   "source": [
    "#### Question 3\n",
    "<li>Select all companies with revenues over 100 thousands and negative profits from the f1000 dataframe.</li>\n",
    "\n",
    "##### Instructions\n",
    "\n",
    "<li>Create a boolean array that selects the companies with revenues greater than 100 thousands.</li>\n",
    "<li>Create a boolean array that selects the companies with profits less than 0.</li>\n"
   ]
  },
  {
   "cell_type": "code",
   "execution_count": null,
   "metadata": {},
   "outputs": [
    {
     "name": "stdout",
     "output_type": "stream",
     "text": [
      "0      572754.0\n",
      "1      469822.0\n",
      "2      365817.0\n",
      "3      292111.0\n",
      "4      287597.0\n",
      "         ...   \n",
      "995      2124.0\n",
      "996      2122.2\n",
      "997      2112.8\n",
      "998      2111.0\n",
      "999      2107.2\n",
      "Name: revenue, Length: 1000, dtype: float64\n"
     ]
    }
   ],
   "source": [
    "revenue_greater_100 = f1000_['revenue'][(f1000_['revenue'] > 100)]\n",
    "print(revenue_greater_100)"
   ]
  },
  {
   "cell_type": "markdown",
   "metadata": {},
   "source": [
    "#### Question 4\n",
    "<li>Select all rows for companies whose city value is either Brazil or Venezuela.</li>\n",
    "<li>Select the first five companies in the Technology sector for which the city is not the \"Boston\" from the f1000 dataframe.</li>"
   ]
  },
  {
   "cell_type": "code",
   "execution_count": null,
   "metadata": {},
   "outputs": [],
   "source": [
    "# selecting 2 city\n",
    "\n",
    "city = f1000_['company'][(f1000_['city']=='Brazil') | (f1000_['city']=='Venezuela')]\n",
    "city"
   ]
  },
  {
   "cell_type": "code",
   "execution_count": null,
   "metadata": {},
   "outputs": [],
   "source": []
  },
  {
   "cell_type": "code",
   "execution_count": null,
   "metadata": {},
   "outputs": [],
   "source": []
  },
  {
   "cell_type": "code",
   "execution_count": null,
   "metadata": {},
   "outputs": [],
   "source": []
  },
  {
   "cell_type": "code",
   "execution_count": null,
   "metadata": {},
   "outputs": [],
   "source": []
  }
 ],
 "metadata": {
  "kernelspec": {
   "display_name": "venv",
   "language": "python",
   "name": "python3"
  },
  "language_info": {
   "codemirror_mode": {
    "name": "ipython",
    "version": 3
   },
   "file_extension": ".py",
   "mimetype": "text/x-python",
   "name": "python",
   "nbconvert_exporter": "python",
   "pygments_lexer": "ipython3",
   "version": "3.11.5"
  }
 },
 "nbformat": 4,
 "nbformat_minor": 2
}
