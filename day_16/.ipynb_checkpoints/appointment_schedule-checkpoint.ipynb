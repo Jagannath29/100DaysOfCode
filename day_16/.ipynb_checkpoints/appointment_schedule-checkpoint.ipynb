{
 "cells": [
  {
   "cell_type": "markdown",
   "metadata": {},
   "source": [
    "#### Questions\n",
    "\n",
    "<li>Read <b>'appointment_schedule.csv'</b> file using pandas.</li>\n",
    "<li>Select the <b>'name'</b> column from the given dataset and store to <b>'appointment_names'</b> variable.</li>\n",
    "<li>Use Python's <b>type()</b> function to assign the type of name column to <b>name_type</b>.</li>"
   ]
  },
  {
   "cell_type": "code",
   "execution_count": 3,
   "metadata": {},
   "outputs": [
    {
     "name": "stdout",
     "output_type": "stream",
     "text": [
      "0        Joshua T. Blanton\n",
      "1          Jack T. Gutting\n",
      "2        Bradley T. Guiles\n",
      "3           Loryn F. Grieb\n",
      "4         Travis D. Gordon\n",
      "              ...         \n",
      "580         Ryan J. Morgan\n",
      "581    Alexander V. Nevsky\n",
      "582     Montana J. Johnson\n",
      "583    Joseph A. Pritchard\n",
      "584        Martin O. Reina\n",
      "Name: name, Length: 585, dtype: object\n"
     ]
    }
   ],
   "source": [
    "import pandas as pd\n",
    "\n",
    "df = pd.read_csv('appointment_schedule.csv')\n",
    "appointment_names = df['name']\n",
    "print(appointment_names)"
   ]
  },
  {
   "cell_type": "code",
   "execution_count": 6,
   "metadata": {},
   "outputs": [
    {
     "data": {
      "text/plain": [
       "pandas.core.series.Series"
      ]
     },
     "execution_count": 6,
     "metadata": {},
     "output_type": "execute_result"
    }
   ],
   "source": [
    "name_type = type(appointment_names)\n",
    "name_type"
   ]
  },
  {
   "cell_type": "markdown",
   "metadata": {},
   "source": [
    "#### Question\n",
    "\n",
    "<li>Use the value counts method to check the frequency count of different names from 'appointment_schedule.csv' file.</li>\n",
    "<li>Select only first row from the series.</li>\n",
    "<li>Select the first row and the last row from the series.</li>\n",
    "<li>Select the first five rows and the last five rows from the series.</li>\n",
    "\n"
   ]
  },
  {
   "cell_type": "code",
   "execution_count": 14,
   "metadata": {},
   "outputs": [
    {
     "data": {
      "text/plain": [
       "3"
      ]
     },
     "execution_count": 14,
     "metadata": {},
     "output_type": "execute_result"
    }
   ],
   "source": [
    "freq_names = appointment_names.value_counts()\n",
    "first_row = freq_names.loc[freq_names.index[0]]\n",
    "first_row\n"
   ]
  },
  {
   "cell_type": "code",
   "execution_count": 16,
   "metadata": {},
   "outputs": [
    {
     "name": "stdout",
     "output_type": "stream",
     "text": [
      "first row from series is 3\n",
      "Last row from series is 1\n"
     ]
    }
   ],
   "source": [
    "last_row = freq_names.loc[freq_names.index[-1]]\n",
    "print(f'first row from series is {first_row}')\n",
    "print(f'Last row from series is {last_row}')\n"
   ]
  },
  {
   "cell_type": "code",
   "execution_count": 25,
   "metadata": {},
   "outputs": [
    {
     "name": "stdout",
     "output_type": "stream",
     "text": [
      "first five row from series is name\n",
      "Jesus MurilloKaram            3\n",
      "Michael A. Marr               2\n",
      "JoseAntonio MeadeKuribrena    2\n",
      "Todd S. Mizis                 2\n",
      "Kieffer T. Elkins             2\n",
      "Name: count, dtype: int64\n",
      "-----------------------------------------\n",
      "Last five row from series is name\n",
      "Anthony J. Falsone     1\n",
      "Robert C. Buford       1\n",
      "Philip Coles           1\n",
      "Kristopher L. Davis    1\n",
      "Joseph A. Pritchard    1\n",
      "Name: count, dtype: int64\n"
     ]
    }
   ],
   "source": [
    "first_5 = freq_names.iloc[:5]\n",
    "last_5 = freq_names.iloc[-5:]\n",
    "print(f'first five row from series is {first_5}')\n",
    "print('-----------------------------------------')\n",
    "print(f'Last five row from series is {last_5}')\n"
   ]
  },
  {
   "cell_type": "code",
   "execution_count": null,
   "metadata": {},
   "outputs": [],
   "source": []
  }
 ],
 "metadata": {
  "kernelspec": {
   "display_name": "venv",
   "language": "python",
   "name": "python3"
  },
  "language_info": {
   "codemirror_mode": {
    "name": "ipython",
    "version": 3
   },
   "file_extension": ".py",
   "mimetype": "text/x-python",
   "name": "python",
   "nbconvert_exporter": "python",
   "pygments_lexer": "ipython3",
   "version": "3.11.5"
  }
 },
 "nbformat": 4,
 "nbformat_minor": 2
}
